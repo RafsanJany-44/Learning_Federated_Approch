{
  "cells": [
    {
      "cell_type": "markdown",
      "metadata": {
        "id": "view-in-github",
        "colab_type": "text"
      },
      "source": [
        "<a href=\"https://colab.research.google.com/github/RafsanJany-44/Learning_Federated_Approch/blob/main/flower_TensoreFlow_Model_Save.ipynb\" target=\"_parent\"><img src=\"https://colab.research.google.com/assets/colab-badge.svg\" alt=\"Open In Colab\"/></a>"
      ]
    },
    {
      "cell_type": "code",
      "source": [],
      "metadata": {
        "id": "svPlNHP0XziW"
      },
      "execution_count": null,
      "outputs": []
    },
    {
      "cell_type": "code",
      "source": [
        "from google.colab import drive\n",
        "drive.mount('/content/drive')"
      ],
      "metadata": {
        "colab": {
          "base_uri": "https://localhost:8080/"
        },
        "id": "ADSawqkUX4Do",
        "outputId": "854d0713-b53b-4869-a278-01b5c993b1b4"
      },
      "execution_count": 1,
      "outputs": [
        {
          "output_type": "stream",
          "name": "stdout",
          "text": [
            "Mounted at /content/drive\n"
          ]
        }
      ]
    },
    {
      "cell_type": "code",
      "source": [
        "import pandas as pd\n",
        "import numpy as np\n",
        "\n",
        "df = pd.read_excel(\"/content/drive/MyDrive/Tanjila_mam/DS-Healthcare_version_2.xlsx\")"
      ],
      "metadata": {
        "id": "0OJhMPoHZOhc"
      },
      "execution_count": 2,
      "outputs": []
    },
    {
      "cell_type": "code",
      "source": [
        "df.shape"
      ],
      "metadata": {
        "colab": {
          "base_uri": "https://localhost:8080/"
        },
        "id": "UhDhaoBosVxz",
        "outputId": "4ab86d6e-75ca-4762-a1f6-82ba33dbe679"
      },
      "execution_count": 15,
      "outputs": [
        {
          "output_type": "stream",
          "name": "stderr",
          "text": [
            "/usr/local/lib/python3.10/dist-packages/ipykernel/ipkernel.py:283: DeprecationWarning: `should_run_async` will not call `transform_cell` automatically in the future. Please pass the result to `transformed_cell` argument and any exception that happen during thetransform in `preprocessing_exc_tuple` in IPython 7.17 and above.\n",
            "  and should_run_async(code)\n"
          ]
        },
        {
          "output_type": "execute_result",
          "data": {
            "text/plain": [
              "(888817, 13)"
            ]
          },
          "metadata": {},
          "execution_count": 15
        }
      ]
    },
    {
      "cell_type": "code",
      "source": [
        "!pip install -q flwr[\"simulation\"] tensorflow"
      ],
      "metadata": {
        "colab": {
          "base_uri": "https://localhost:8080/"
        },
        "id": "FGnOcWH2L7an",
        "outputId": "a150be09-ee09-41ff-cc40-11c3c2e9fc92"
      },
      "execution_count": 9,
      "outputs": [
        {
          "output_type": "stream",
          "name": "stdout",
          "text": [
            "\u001b[2K     \u001b[90m━━━━━━━━━━━━━━━━━━━━━━━━━━━━━━━━━━━━━━━━\u001b[0m \u001b[32m235.0/235.0 kB\u001b[0m \u001b[31m4.2 MB/s\u001b[0m eta \u001b[36m0:00:00\u001b[0m\n",
            "\u001b[2K     \u001b[90m━━━━━━━━━━━━━━━━━━━━━━━━━━━━━━━━━━━━━━━━\u001b[0m \u001b[32m4.4/4.4 MB\u001b[0m \u001b[31m47.5 MB/s\u001b[0m eta \u001b[36m0:00:00\u001b[0m\n",
            "\u001b[2K     \u001b[90m━━━━━━━━━━━━━━━━━━━━━━━━━━━━━━━━━━━━━━━━\u001b[0m \u001b[32m294.6/294.6 kB\u001b[0m \u001b[31m27.8 MB/s\u001b[0m eta \u001b[36m0:00:00\u001b[0m\n",
            "\u001b[2K     \u001b[90m━━━━━━━━━━━━━━━━━━━━━━━━━━━━━━━━━━━━━━━━\u001b[0m \u001b[32m2.1/2.1 MB\u001b[0m \u001b[31m76.9 MB/s\u001b[0m eta \u001b[36m0:00:00\u001b[0m\n",
            "\u001b[2K     \u001b[90m━━━━━━━━━━━━━━━━━━━━━━━━━━━━━━━━━━━━━━━━\u001b[0m \u001b[32m3.1/3.1 MB\u001b[0m \u001b[31m59.5 MB/s\u001b[0m eta \u001b[36m0:00:00\u001b[0m\n",
            "\u001b[2K     \u001b[90m━━━━━━━━━━━━━━━━━━━━━━━━━━━━━━━━━━━━━━━━\u001b[0m \u001b[32m56.9/56.9 MB\u001b[0m \u001b[31m8.7 MB/s\u001b[0m eta \u001b[36m0:00:00\u001b[0m\n",
            "\u001b[?25h\u001b[31mERROR: pip's dependency resolver does not currently take into account all the packages that are installed. This behaviour is the source of the following dependency conflicts.\n",
            "tensorflow-metadata 1.14.0 requires protobuf<4.21,>=3.20.3, but you have protobuf 4.25.3 which is incompatible.\u001b[0m\u001b[31m\n",
            "\u001b[0m"
          ]
        }
      ]
    },
    {
      "cell_type": "code",
      "source": [
        "import math\n",
        "from typing import Dict, List, Tuple\n",
        "\n",
        "import tensorflow as tf\n",
        "\n",
        "import flwr as fl\n",
        "from flwr.common import Metrics\n",
        "from flwr.simulation.ray_transport.utils import enable_tf_gpu_growth\n",
        "\n",
        "VERBOSE = 0\n",
        "NUM_CLIENTS = 100\n",
        "count_rounds=0\n",
        "number_of_rounds = 10\n",
        "\n",
        "\n",
        "\n",
        "\"\"\"\n",
        "#ANN\n",
        "def get_model():\n",
        "\n",
        "    model = tf.keras.models.Sequential(\n",
        "        [\n",
        "            tf.keras.layers.Flatten(input_shape=[9]),\n",
        "            tf.keras.layers.Dense(128, activation=\"relu\"),\n",
        "            tf.keras.layers.Dropout(0.2),\n",
        "            tf.keras.layers.Dense(3, activation=\"softmax\"),\n",
        "        ]\n",
        "    )\n",
        "    global saving_model_name\n",
        "    saving_model_name = \"ann\"\n",
        "    model.compile(\"adam\", \"sparse_categorical_crossentropy\", metrics=[\"accuracy\"])\n",
        "    return model\n",
        "\"\"\"\n",
        "\n",
        "\n",
        "\n",
        "\n",
        "\n",
        "\n",
        "\n",
        "\"\"\"\n",
        "#CNN\n",
        "\n",
        "def get_model():\n",
        "\n",
        "  model = tf.keras.Sequential([\n",
        "      tf.keras.layers.Dense(256, activation=\"relu\", input_shape=(9,)),\n",
        "      tf.keras.layers.Dropout(0.2),\n",
        "      tf.keras.layers.Dense(128, activation=\"relu\"),\n",
        "      tf.keras.layers.Dropout(0.2),\n",
        "      tf.keras.layers.Dense(64, activation=\"relu\"),\n",
        "      tf.keras.layers.Dropout(0.2),\n",
        "      tf.keras.layers.Dense(32, activation=\"relu\"),\n",
        "      tf.keras.layers.Dropout(0.2),\n",
        "      tf.keras.layers.Dense(3, activation=\"softmax\"),\n",
        "  ])\n",
        "  global saving_model_name\n",
        "  saving_model_name = \"cnn\"\n",
        "  model.compile(optimizer=\"adam\", loss=\"sparse_categorical_crossentropy\", metrics=[\"accuracy\"])\n",
        "  return model\n",
        "\n",
        "\"\"\"\n",
        "\n",
        "\n",
        "\n",
        "\n",
        "\n",
        "#LSTM\n",
        "\n",
        "def get_model():\n",
        "    model = tf.keras.Sequential([\n",
        "        tf.keras.layers.LSTM(64, activation=\"relu\", input_shape=(9, 1), return_sequences=True),\n",
        "        tf.keras.layers.Dropout(0.2),\n",
        "        tf.keras.layers.LSTM(32, activation=\"relu\", return_sequences=True),\n",
        "        tf.keras.layers.Dropout(0.2),\n",
        "        tf.keras.layers.LSTM(16, activation=\"relu\"),\n",
        "        tf.keras.layers.Dropout(0.2),\n",
        "        tf.keras.layers.Dense(3, activation=\"softmax\")\n",
        "    ])\n",
        "    global saving_model_name\n",
        "    saving_model_name = \"lstm\"\n",
        "\n",
        "    model.compile(optimizer=\"adam\", loss=\"sparse_categorical_crossentropy\", metrics=[\"accuracy\"])\n",
        "    return model\n",
        "\n",
        "\n",
        "\n",
        "\n",
        "\n",
        "\n",
        "\n",
        "\n",
        "\n",
        "\n",
        "\n",
        "class FlowerClient(fl.client.NumPyClient):\n",
        "    def __init__(self, x_train, y_train, x_val, y_val) -> None:\n",
        "        # Create model\n",
        "        self.model = get_model()\n",
        "        self.x_train, self.y_train = x_train, y_train\n",
        "        self.x_val, self.y_val = x_val, y_val\n",
        "\n",
        "    def get_parameters(self, config):\n",
        "        return self.model.get_weights()\n",
        "\n",
        "    def fit(self, parameters, config):\n",
        "        self.model.set_weights(parameters)\n",
        "        self.model.fit(\n",
        "            self.x_train, self.y_train, epochs=1, batch_size=32, verbose=VERBOSE\n",
        "        )\n",
        "        return self.model.get_weights(), len(self.x_train), {}\n",
        "\n",
        "    def evaluate(self, parameters, config):\n",
        "        self.model.set_weights(parameters)\n",
        "        loss, acc = self.model.evaluate(\n",
        "            self.x_val, self.y_val, batch_size=64, verbose=VERBOSE\n",
        "        )\n",
        "        return loss, len(self.x_val), {\"accuracy\": acc}\n",
        "\n",
        "\n",
        "def get_client_fn(dataset_partitions):\n",
        "    \"\"\"Return a function to be executed by the VirtualClientEngine in order to construct\n",
        "    a client.\"\"\"\n",
        "\n",
        "    def client_fn(cid: str) -> fl.client.Client:\n",
        "        \"\"\"Construct a FlowerClient with its own dataset partition.\"\"\"\n",
        "\n",
        "        # Extract partition for client with id = cid\n",
        "        x_train, y_train = dataset_partitions[int(cid)]\n",
        "        # Use 10% of the client's training data for validation\n",
        "        split_idx = math.floor(len(x_train) * 0.9)\n",
        "        x_train_cid, y_train_cid = (\n",
        "            x_train[:split_idx],\n",
        "            y_train[:split_idx],\n",
        "        )\n",
        "        x_val_cid, y_val_cid = x_train[split_idx:], y_train[split_idx:]\n",
        "\n",
        "        # Create and return client\n",
        "        return FlowerClient(x_train_cid, y_train_cid, x_val_cid, y_val_cid)\n",
        "\n",
        "    return client_fn\n",
        "\n",
        "\n",
        "\n",
        "from sklearn.model_selection import train_test_split\n",
        "from sklearn.preprocessing import LabelEncoder\n",
        "\n",
        "\n",
        "def partition_mnist():\n",
        "    \"\"\"Download and partitions the MNIST dataset.\"\"\"\n",
        "    # Assuming df is your DataFrame containing the dataset\n",
        "\n",
        "    encoder = LabelEncoder()\n",
        "    df['Type'] = encoder.fit_transform(df['Type'])\n",
        "    X = df.iloc[:, 4:]\n",
        "    y = df['Type']\n",
        "\n",
        "    # Apply SMOTE to balance the dataset\n",
        "    smote = SMOTE(random_state=42)\n",
        "    X_resampled, y_resampled = smote.fit_resample(X, y)\n",
        "\n",
        "    print(\"Original dataset shape:\", Counter(y))\n",
        "    print(\"Resampled dataset shape:\", Counter(y_resampled))\n",
        "\n",
        "    x_train, x_test, y_train, y_test = train_test_split(X_resampled, y_resampled, test_size=0.33, random_state=0)\n",
        "    x_train = x_train.to_numpy()\n",
        "    x_test = x_test.to_numpy()\n",
        "    y_train = y_train.to_numpy()\n",
        "    y_test = y_test.to_numpy()\n",
        "    testset = (x_test, y_test)\n",
        "    print(type(x_train))\n",
        "    partitions = []\n",
        "    # We keep all partitions equal-sized in this example\n",
        "    partition_size = math.floor(len(x_train) / NUM_CLIENTS)\n",
        "    for cid in range(NUM_CLIENTS):\n",
        "        # Split dataset into non-overlapping NUM_CLIENT partitions\n",
        "        idx_from, idx_to = int(cid) * partition_size, (int(cid) + 1) * partition_size\n",
        "        partitions.append((x_train[idx_from:idx_to] / 255.0, y_train[idx_from:idx_to]))\n",
        "    return partitions, testset\n",
        "\n",
        "\n",
        "\n",
        "\n",
        "\n",
        "def weighted_average(metrics: List[Tuple[int, Metrics]]) -> Metrics:\n",
        "    \"\"\"Aggregation function for (federated) evaluation metrics, i.e. those returned by\n",
        "    the client's evaluate() method.\"\"\"\n",
        "    # Multiply accuracy of each client by number of examples used\n",
        "    accuracies = [num_examples * m[\"accuracy\"] for num_examples, m in metrics]\n",
        "    examples = [num_examples for num_examples, _ in metrics]\n",
        "\n",
        "    # Aggregate and return custom metric (weighted average)\n",
        "    return {\"accuracy\": sum(accuracies) / sum(examples)}\n",
        "\n",
        "\n",
        "def get_evaluate_fn(testset):\n",
        "    x_test, y_test = testset\n",
        "\n",
        "    def evaluate(\n",
        "        server_round: int,\n",
        "        parameters: fl.common.NDArrays,\n",
        "        config: Dict[str, fl.common.Scalar],\n",
        "    ):\n",
        "        model = get_model()  # Construct the model\n",
        "        model.set_weights(parameters)  # Update model with the latest parameters\n",
        "        loss, accuracy = model.evaluate(x_test, y_test, verbose=VERBOSE)\n",
        "        global count_rounds\n",
        "        global number_of_rounds\n",
        "\n",
        "        print(\"-------------------________________________---------------\",number_of_rounds-count_rounds)\n",
        "\n",
        "        if number_of_rounds-count_rounds == 0:\n",
        "            global saving_model_name\n",
        "            model.save(saving_model_name+\"_model.h5\")  # Replace with your desired filename\"\"\"\n",
        "\n",
        "        count_rounds+=1\n",
        "        return loss, {\"accuracy\": accuracy}\n",
        "\n",
        "    return evaluate\n",
        "\n",
        "\n",
        "\n",
        "# Enable GPU growth in your main process\n",
        "enable_tf_gpu_growth()\n",
        "\n",
        "# Create dataset partitions (needed if your dataset is not pre-partitioned)\n",
        "partitions, testset = partition_mnist()\n",
        "\n",
        "# Create FedAvg strategy\n",
        "strategy = fl.server.strategy.FedAvg(\n",
        "    fraction_fit=0.1,  # Sample 10% of available clients for training\n",
        "    fraction_evaluate=0.05,  # Sample 5% of available clients for evaluation\n",
        "    min_fit_clients=10,  # Never sample less than 10 clients for training\n",
        "    min_evaluate_clients=5,  # Never sample less than 5 clients for evaluation\n",
        "    min_available_clients=int(\n",
        "        NUM_CLIENTS * 0.75\n",
        "    ),  # Wait until at least 75 clients are available\n",
        "    evaluate_metrics_aggregation_fn=weighted_average,  # aggregates federated metrics\n",
        "    evaluate_fn=get_evaluate_fn(testset),  # global evaluation function\n",
        ")\n",
        "\n",
        "\n",
        "\n",
        "# client needs exclusive access to these many resources in order to run\n",
        "client_resources = {\"num_cpus\": 1, \"num_gpus\": 0.0}\n",
        "\n",
        "\n",
        "\n",
        "# Start simulation\n",
        "history = fl.simulation.start_simulation(\n",
        "    client_fn=get_client_fn(partitions),\n",
        "    num_clients=NUM_CLIENTS,\n",
        "    config=fl.server.ServerConfig(num_rounds=number_of_rounds),\n",
        "    strategy=strategy,\n",
        "    client_resources=client_resources,\n",
        "    actor_kwargs={\n",
        "        \"on_actor_init_fn\": enable_tf_gpu_growth  # Enable GPU growth upon actor init.\n",
        "    },\n",
        ")\n",
        "\n",
        "\n",
        "\n",
        "import matplotlib.pyplot as plt\n",
        "\n",
        "print(f\"{history.metrics_centralized = }\")\n",
        "\n",
        "global_accuracy_centralised = history.metrics_centralized[\"accuracy\"]\n",
        "round = [data[0] for data in global_accuracy_centralised]\n",
        "acc = [100.0 * data[1] for data in global_accuracy_centralised]\n",
        "plt.plot(round, acc)\n",
        "plt.grid(True)\n",
        "plt.ylabel(\"Accuracy (%)\")\n",
        "plt.xlabel(\"Round\")\n",
        "plt.title(\"100 clients with 10 clients per round\")"
      ],
      "metadata": {
        "colab": {
          "base_uri": "https://localhost:8080/",
          "height": 1000
        },
        "id": "9rYQ2qzgMgal",
        "outputId": "67140d13-7a35-4f7e-8c96-143e40f6ff29"
      },
      "execution_count": 32,
      "outputs": [
        {
          "output_type": "stream",
          "name": "stderr",
          "text": [
            "INFO flwr 2024-03-19 12:57:27,252 | app.py:178 | Starting Flower simulation, config: ServerConfig(num_rounds=50, round_timeout=None)\n",
            "INFO:flwr:Starting Flower simulation, config: ServerConfig(num_rounds=50, round_timeout=None)\n"
          ]
        },
        {
          "output_type": "stream",
          "name": "stdout",
          "text": [
            "<class 'numpy.ndarray'>\n"
          ]
        },
        {
          "output_type": "stream",
          "name": "stderr",
          "text": [
            "2024-03-19 12:57:32,024\tINFO worker.py:1621 -- Started a local Ray instance.\n",
            "INFO flwr 2024-03-19 12:57:34,740 | app.py:213 | Flower VCE: Ray initialized with resources: {'CPU': 2.0, 'memory': 7730629019.0, 'object_store_memory': 3865314508.0, 'node:__internal_head__': 1.0, 'node:172.28.0.12': 1.0}\n",
            "INFO:flwr:Flower VCE: Ray initialized with resources: {'CPU': 2.0, 'memory': 7730629019.0, 'object_store_memory': 3865314508.0, 'node:__internal_head__': 1.0, 'node:172.28.0.12': 1.0}\n",
            "INFO flwr 2024-03-19 12:57:34,750 | app.py:219 | Optimize your simulation with Flower VCE: https://flower.dev/docs/framework/how-to-run-simulations.html\n",
            "INFO:flwr:Optimize your simulation with Flower VCE: https://flower.dev/docs/framework/how-to-run-simulations.html\n",
            "INFO flwr 2024-03-19 12:57:34,760 | app.py:242 | Flower VCE: Resources for each Virtual Client: {'num_cpus': 1, 'num_gpus': 0.0}\n",
            "INFO:flwr:Flower VCE: Resources for each Virtual Client: {'num_cpus': 1, 'num_gpus': 0.0}\n",
            "INFO flwr 2024-03-19 12:57:34,812 | app.py:288 | Flower VCE: Creating VirtualClientEngineActorPool with 2 actors\n",
            "INFO:flwr:Flower VCE: Creating VirtualClientEngineActorPool with 2 actors\n",
            "INFO flwr 2024-03-19 12:57:34,821 | server.py:89 | Initializing global parameters\n",
            "INFO:flwr:Initializing global parameters\n",
            "INFO flwr 2024-03-19 12:57:34,834 | server.py:276 | Requesting initial parameters from one random client\n",
            "INFO:flwr:Requesting initial parameters from one random client\n",
            "\u001b[2m\u001b[36m(pid=20180)\u001b[0m 2024-03-19 12:57:37.577631: E external/local_xla/xla/stream_executor/cuda/cuda_dnn.cc:9261] Unable to register cuDNN factory: Attempting to register factory for plugin cuDNN when one has already been registered\n",
            "\u001b[2m\u001b[36m(pid=20180)\u001b[0m 2024-03-19 12:57:37.577692: E external/local_xla/xla/stream_executor/cuda/cuda_fft.cc:607] Unable to register cuFFT factory: Attempting to register factory for plugin cuFFT when one has already been registered\n",
            "\u001b[2m\u001b[36m(pid=20180)\u001b[0m 2024-03-19 12:57:37.579825: E external/local_xla/xla/stream_executor/cuda/cuda_blas.cc:1515] Unable to register cuBLAS factory: Attempting to register factory for plugin cuBLAS when one has already been registered\n",
            "\u001b[2m\u001b[36m(pid=20181)\u001b[0m 2024-03-19 12:57:41.083941: W tensorflow/compiler/tf2tensorrt/utils/py_utils.cc:38] TF-TRT Warning: Could not find TensorRT\n",
            "\u001b[2m\u001b[36m(DefaultActor pid=20181)\u001b[0m /usr/local/lib/python3.10/dist-packages/flwr/simulation/ray_transport/ray_actor.py:72: DeprecationWarning:  Ensure your client is of type `flwr.client.Client`. Please convert it using the `.to_client()` method before returning it in the `client_fn` you pass to `start_simulation`. We have applied this conversion on your behalf. Not returning a `Client` might trigger an error in future versions of Flower.\n",
            "\u001b[2m\u001b[36m(DefaultActor pid=20181)\u001b[0m   client = check_clientfn_returns_client(client_fn(cid))\n",
            "\u001b[2m\u001b[36m(pid=20181)\u001b[0m 2024-03-19 12:57:37.535595: E external/local_xla/xla/stream_executor/cuda/cuda_dnn.cc:9261] Unable to register cuDNN factory: Attempting to register factory for plugin cuDNN when one has already been registered\n",
            "\u001b[2m\u001b[36m(pid=20181)\u001b[0m 2024-03-19 12:57:37.535668: E external/local_xla/xla/stream_executor/cuda/cuda_fft.cc:607] Unable to register cuFFT factory: Attempting to register factory for plugin cuFFT when one has already been registered\n",
            "\u001b[2m\u001b[36m(pid=20181)\u001b[0m 2024-03-19 12:57:37.537540: E external/local_xla/xla/stream_executor/cuda/cuda_blas.cc:1515] Unable to register cuBLAS factory: Attempting to register factory for plugin cuBLAS when one has already been registered\n",
            "INFO flwr 2024-03-19 12:57:44,806 | server.py:280 | Received initial parameters from one random client\n",
            "INFO:flwr:Received initial parameters from one random client\n",
            "INFO flwr 2024-03-19 12:57:44,811 | server.py:91 | Evaluating initial parameters\n",
            "INFO:flwr:Evaluating initial parameters\n",
            "INFO flwr 2024-03-19 12:58:05,740 | server.py:94 | initial parameters (loss, other metrics): 5.452410697937012, {'accuracy': 0.04474446922540665}\n",
            "INFO:flwr:initial parameters (loss, other metrics): 5.452410697937012, {'accuracy': 0.04474446922540665}\n",
            "INFO flwr 2024-03-19 12:58:05,747 | server.py:104 | FL starting\n",
            "INFO:flwr:FL starting\n",
            "DEBUG flwr 2024-03-19 12:58:05,752 | server.py:222 | fit_round 1: strategy sampled 10 clients (out of 100)\n",
            "DEBUG:flwr:fit_round 1: strategy sampled 10 clients (out of 100)\n"
          ]
        },
        {
          "output_type": "stream",
          "name": "stdout",
          "text": [
            "-------------------________________________--------------- 50\n"
          ]
        },
        {
          "output_type": "stream",
          "name": "stderr",
          "text": [
            "\u001b[2m\u001b[36m(pid=20180)\u001b[0m 2024-03-19 12:57:41.407548: W tensorflow/compiler/tf2tensorrt/utils/py_utils.cc:38] TF-TRT Warning: Could not find TensorRT\n",
            "\u001b[2m\u001b[36m(DefaultActor pid=20180)\u001b[0m /usr/local/lib/python3.10/dist-packages/flwr/simulation/ray_transport/ray_actor.py:72: DeprecationWarning:  Ensure your client is of type `flwr.client.Client`. Please convert it using the `.to_client()` method before returning it in the `client_fn` you pass to `start_simulation`. We have applied this conversion on your behalf. Not returning a `Client` might trigger an error in future versions of Flower.\n",
            "\u001b[2m\u001b[36m(DefaultActor pid=20180)\u001b[0m   client = check_clientfn_returns_client(client_fn(cid))\n",
            "DEBUG flwr 2024-03-19 12:58:21,547 | server.py:236 | fit_round 1 received 10 results and 0 failures\n",
            "DEBUG:flwr:fit_round 1 received 10 results and 0 failures\n",
            "WARNING flwr 2024-03-19 12:58:21,585 | fedavg.py:250 | No fit_metrics_aggregation_fn provided\n",
            "WARNING:flwr:No fit_metrics_aggregation_fn provided\n",
            "INFO flwr 2024-03-19 12:58:35,101 | server.py:125 | fit progress: (1, 115.40326690673828, {'accuracy': 0.6654767990112305}, 29.34943914300038)\n",
            "INFO:flwr:fit progress: (1, 115.40326690673828, {'accuracy': 0.6654767990112305}, 29.34943914300038)\n",
            "DEBUG flwr 2024-03-19 12:58:35,106 | server.py:173 | evaluate_round 1: strategy sampled 5 clients (out of 100)\n",
            "DEBUG:flwr:evaluate_round 1: strategy sampled 5 clients (out of 100)\n"
          ]
        },
        {
          "output_type": "stream",
          "name": "stdout",
          "text": [
            "-------------------________________________--------------- 49\n"
          ]
        },
        {
          "output_type": "stream",
          "name": "stderr",
          "text": [
            "DEBUG flwr 2024-03-19 12:58:37,974 | server.py:187 | evaluate_round 1 received 5 results and 0 failures\n",
            "DEBUG:flwr:evaluate_round 1 received 5 results and 0 failures\n",
            "DEBUG flwr 2024-03-19 12:58:37,980 | server.py:222 | fit_round 2: strategy sampled 10 clients (out of 100)\n",
            "DEBUG:flwr:fit_round 2: strategy sampled 10 clients (out of 100)\n",
            "DEBUG flwr 2024-03-19 12:58:54,925 | server.py:236 | fit_round 2 received 10 results and 0 failures\n",
            "DEBUG:flwr:fit_round 2 received 10 results and 0 failures\n",
            "INFO flwr 2024-03-19 12:59:09,118 | server.py:125 | fit progress: (2, 138.7212371826172, {'accuracy': 0.6888684034347534}, 63.36656505500014)\n",
            "INFO:flwr:fit progress: (2, 138.7212371826172, {'accuracy': 0.6888684034347534}, 63.36656505500014)\n",
            "DEBUG flwr 2024-03-19 12:59:09,124 | server.py:173 | evaluate_round 2: strategy sampled 5 clients (out of 100)\n",
            "DEBUG:flwr:evaluate_round 2: strategy sampled 5 clients (out of 100)\n"
          ]
        },
        {
          "output_type": "stream",
          "name": "stdout",
          "text": [
            "-------------------________________________--------------- 48\n"
          ]
        },
        {
          "output_type": "stream",
          "name": "stderr",
          "text": [
            "DEBUG flwr 2024-03-19 12:59:11,015 | server.py:187 | evaluate_round 2 received 5 results and 0 failures\n",
            "DEBUG:flwr:evaluate_round 2 received 5 results and 0 failures\n",
            "DEBUG flwr 2024-03-19 12:59:11,018 | server.py:222 | fit_round 3: strategy sampled 10 clients (out of 100)\n",
            "DEBUG:flwr:fit_round 3: strategy sampled 10 clients (out of 100)\n",
            "DEBUG flwr 2024-03-19 12:59:26,850 | server.py:236 | fit_round 3 received 10 results and 0 failures\n",
            "DEBUG:flwr:fit_round 3 received 10 results and 0 failures\n",
            "INFO flwr 2024-03-19 12:59:47,789 | server.py:125 | fit progress: (3, 185.81167602539062, {'accuracy': 0.7205755114555359}, 102.03795605799996)\n",
            "INFO:flwr:fit progress: (3, 185.81167602539062, {'accuracy': 0.7205755114555359}, 102.03795605799996)\n",
            "DEBUG flwr 2024-03-19 12:59:47,794 | server.py:173 | evaluate_round 3: strategy sampled 5 clients (out of 100)\n",
            "DEBUG:flwr:evaluate_round 3: strategy sampled 5 clients (out of 100)\n"
          ]
        },
        {
          "output_type": "stream",
          "name": "stdout",
          "text": [
            "-------------------________________________--------------- 47\n"
          ]
        },
        {
          "output_type": "stream",
          "name": "stderr",
          "text": [
            "DEBUG flwr 2024-03-19 12:59:50,680 | server.py:187 | evaluate_round 3 received 5 results and 0 failures\n",
            "DEBUG:flwr:evaluate_round 3 received 5 results and 0 failures\n",
            "DEBUG flwr 2024-03-19 12:59:50,686 | server.py:222 | fit_round 4: strategy sampled 10 clients (out of 100)\n",
            "DEBUG:flwr:fit_round 4: strategy sampled 10 clients (out of 100)\n",
            "DEBUG flwr 2024-03-19 13:00:08,445 | server.py:236 | fit_round 4 received 10 results and 0 failures\n",
            "DEBUG:flwr:fit_round 4 received 10 results and 0 failures\n",
            "INFO flwr 2024-03-19 13:00:22,890 | server.py:125 | fit progress: (4, 273.548095703125, {'accuracy': 0.7673587799072266}, 137.13808674300026)\n",
            "INFO:flwr:fit progress: (4, 273.548095703125, {'accuracy': 0.7673587799072266}, 137.13808674300026)\n",
            "DEBUG flwr 2024-03-19 13:00:22,895 | server.py:173 | evaluate_round 4: strategy sampled 5 clients (out of 100)\n",
            "DEBUG:flwr:evaluate_round 4: strategy sampled 5 clients (out of 100)\n"
          ]
        },
        {
          "output_type": "stream",
          "name": "stdout",
          "text": [
            "-------------------________________________--------------- 46\n"
          ]
        },
        {
          "output_type": "stream",
          "name": "stderr",
          "text": [
            "DEBUG flwr 2024-03-19 13:00:24,759 | server.py:187 | evaluate_round 4 received 5 results and 0 failures\n",
            "DEBUG:flwr:evaluate_round 4 received 5 results and 0 failures\n",
            "DEBUG flwr 2024-03-19 13:00:24,763 | server.py:222 | fit_round 5: strategy sampled 10 clients (out of 100)\n",
            "DEBUG:flwr:fit_round 5: strategy sampled 10 clients (out of 100)\n",
            "DEBUG flwr 2024-03-19 13:00:40,434 | server.py:236 | fit_round 5 received 10 results and 0 failures\n",
            "DEBUG:flwr:fit_round 5 received 10 results and 0 failures\n",
            "INFO flwr 2024-03-19 13:00:55,705 | server.py:125 | fit progress: (5, 352.629150390625, {'accuracy': 0.7868875861167908}, 169.95299417000024)\n",
            "INFO:flwr:fit progress: (5, 352.629150390625, {'accuracy': 0.7868875861167908}, 169.95299417000024)\n",
            "DEBUG flwr 2024-03-19 13:00:55,713 | server.py:173 | evaluate_round 5: strategy sampled 5 clients (out of 100)\n",
            "DEBUG:flwr:evaluate_round 5: strategy sampled 5 clients (out of 100)\n"
          ]
        },
        {
          "output_type": "stream",
          "name": "stdout",
          "text": [
            "-------------------________________________--------------- 45\n"
          ]
        },
        {
          "output_type": "stream",
          "name": "stderr",
          "text": [
            "DEBUG flwr 2024-03-19 13:00:57,473 | server.py:187 | evaluate_round 5 received 5 results and 0 failures\n",
            "DEBUG:flwr:evaluate_round 5 received 5 results and 0 failures\n",
            "DEBUG flwr 2024-03-19 13:00:57,481 | server.py:222 | fit_round 6: strategy sampled 10 clients (out of 100)\n",
            "DEBUG:flwr:fit_round 6: strategy sampled 10 clients (out of 100)\n",
            "DEBUG flwr 2024-03-19 13:01:14,407 | server.py:236 | fit_round 6 received 10 results and 0 failures\n",
            "DEBUG:flwr:fit_round 6 received 10 results and 0 failures\n",
            "INFO flwr 2024-03-19 13:01:35,345 | server.py:125 | fit progress: (6, 435.7398986816406, {'accuracy': 0.784299910068512}, 209.59379473200033)\n",
            "INFO:flwr:fit progress: (6, 435.7398986816406, {'accuracy': 0.784299910068512}, 209.59379473200033)\n",
            "DEBUG flwr 2024-03-19 13:01:35,350 | server.py:173 | evaluate_round 6: strategy sampled 5 clients (out of 100)\n",
            "DEBUG:flwr:evaluate_round 6: strategy sampled 5 clients (out of 100)\n"
          ]
        },
        {
          "output_type": "stream",
          "name": "stdout",
          "text": [
            "-------------------________________________--------------- 44\n"
          ]
        },
        {
          "output_type": "stream",
          "name": "stderr",
          "text": [
            "DEBUG flwr 2024-03-19 13:01:37,235 | server.py:187 | evaluate_round 6 received 5 results and 0 failures\n",
            "DEBUG:flwr:evaluate_round 6 received 5 results and 0 failures\n",
            "DEBUG flwr 2024-03-19 13:01:37,239 | server.py:222 | fit_round 7: strategy sampled 10 clients (out of 100)\n",
            "DEBUG:flwr:fit_round 7: strategy sampled 10 clients (out of 100)\n",
            "DEBUG flwr 2024-03-19 13:01:53,220 | server.py:236 | fit_round 7 received 10 results and 0 failures\n",
            "DEBUG:flwr:fit_round 7 received 10 results and 0 failures\n",
            "INFO flwr 2024-03-19 13:02:06,578 | server.py:125 | fit progress: (7, 466.1918640136719, {'accuracy': 0.794521152973175}, 240.82690507799998)\n",
            "INFO:flwr:fit progress: (7, 466.1918640136719, {'accuracy': 0.794521152973175}, 240.82690507799998)\n",
            "DEBUG flwr 2024-03-19 13:02:06,584 | server.py:173 | evaluate_round 7: strategy sampled 5 clients (out of 100)\n",
            "DEBUG:flwr:evaluate_round 7: strategy sampled 5 clients (out of 100)\n"
          ]
        },
        {
          "output_type": "stream",
          "name": "stdout",
          "text": [
            "-------------------________________________--------------- 43\n"
          ]
        },
        {
          "output_type": "stream",
          "name": "stderr",
          "text": [
            "DEBUG flwr 2024-03-19 13:02:08,377 | server.py:187 | evaluate_round 7 received 5 results and 0 failures\n",
            "DEBUG:flwr:evaluate_round 7 received 5 results and 0 failures\n",
            "DEBUG flwr 2024-03-19 13:02:08,380 | server.py:222 | fit_round 8: strategy sampled 10 clients (out of 100)\n",
            "DEBUG:flwr:fit_round 8: strategy sampled 10 clients (out of 100)\n",
            "DEBUG flwr 2024-03-19 13:02:23,816 | server.py:236 | fit_round 8 received 10 results and 0 failures\n",
            "DEBUG:flwr:fit_round 8 received 10 results and 0 failures\n",
            "INFO flwr 2024-03-19 13:02:37,438 | server.py:125 | fit progress: (8, 529.5328979492188, {'accuracy': 0.7980907559394836}, 271.68662965700014)\n",
            "INFO:flwr:fit progress: (8, 529.5328979492188, {'accuracy': 0.7980907559394836}, 271.68662965700014)\n",
            "DEBUG flwr 2024-03-19 13:02:37,447 | server.py:173 | evaluate_round 8: strategy sampled 5 clients (out of 100)\n",
            "DEBUG:flwr:evaluate_round 8: strategy sampled 5 clients (out of 100)\n"
          ]
        },
        {
          "output_type": "stream",
          "name": "stdout",
          "text": [
            "-------------------________________________--------------- 42\n"
          ]
        },
        {
          "output_type": "stream",
          "name": "stderr",
          "text": [
            "DEBUG flwr 2024-03-19 13:02:39,300 | server.py:187 | evaluate_round 8 received 5 results and 0 failures\n",
            "DEBUG:flwr:evaluate_round 8 received 5 results and 0 failures\n",
            "DEBUG flwr 2024-03-19 13:02:39,307 | server.py:222 | fit_round 9: strategy sampled 10 clients (out of 100)\n",
            "DEBUG:flwr:fit_round 9: strategy sampled 10 clients (out of 100)\n",
            "DEBUG flwr 2024-03-19 13:02:56,509 | server.py:236 | fit_round 9 received 10 results and 0 failures\n",
            "DEBUG:flwr:fit_round 9 received 10 results and 0 failures\n",
            "INFO flwr 2024-03-19 13:03:10,059 | server.py:125 | fit progress: (9, 554.38916015625, {'accuracy': 0.7983601093292236}, 304.30740978300037)\n",
            "INFO:flwr:fit progress: (9, 554.38916015625, {'accuracy': 0.7983601093292236}, 304.30740978300037)\n",
            "DEBUG flwr 2024-03-19 13:03:10,066 | server.py:173 | evaluate_round 9: strategy sampled 5 clients (out of 100)\n",
            "DEBUG:flwr:evaluate_round 9: strategy sampled 5 clients (out of 100)\n"
          ]
        },
        {
          "output_type": "stream",
          "name": "stdout",
          "text": [
            "-------------------________________________--------------- 41\n"
          ]
        },
        {
          "output_type": "stream",
          "name": "stderr",
          "text": [
            "DEBUG flwr 2024-03-19 13:03:13,141 | server.py:187 | evaluate_round 9 received 5 results and 0 failures\n",
            "DEBUG:flwr:evaluate_round 9 received 5 results and 0 failures\n",
            "DEBUG flwr 2024-03-19 13:03:13,150 | server.py:222 | fit_round 10: strategy sampled 10 clients (out of 100)\n",
            "DEBUG:flwr:fit_round 10: strategy sampled 10 clients (out of 100)\n",
            "DEBUG flwr 2024-03-19 13:03:29,545 | server.py:236 | fit_round 10 received 10 results and 0 failures\n",
            "DEBUG:flwr:fit_round 10 received 10 results and 0 failures\n",
            "INFO flwr 2024-03-19 13:03:42,211 | server.py:125 | fit progress: (10, 595.566162109375, {'accuracy': 0.7984248995780945}, 336.45937078)\n",
            "INFO:flwr:fit progress: (10, 595.566162109375, {'accuracy': 0.7984248995780945}, 336.45937078)\n",
            "DEBUG flwr 2024-03-19 13:03:42,216 | server.py:173 | evaluate_round 10: strategy sampled 5 clients (out of 100)\n",
            "DEBUG:flwr:evaluate_round 10: strategy sampled 5 clients (out of 100)\n"
          ]
        },
        {
          "output_type": "stream",
          "name": "stdout",
          "text": [
            "-------------------________________________--------------- 40\n"
          ]
        },
        {
          "output_type": "stream",
          "name": "stderr",
          "text": [
            "DEBUG flwr 2024-03-19 13:03:44,848 | server.py:187 | evaluate_round 10 received 5 results and 0 failures\n",
            "DEBUG:flwr:evaluate_round 10 received 5 results and 0 failures\n",
            "DEBUG flwr 2024-03-19 13:03:44,854 | server.py:222 | fit_round 11: strategy sampled 10 clients (out of 100)\n",
            "DEBUG:flwr:fit_round 11: strategy sampled 10 clients (out of 100)\n",
            "DEBUG flwr 2024-03-19 13:04:00,434 | server.py:236 | fit_round 11 received 10 results and 0 failures\n",
            "DEBUG:flwr:fit_round 11 received 10 results and 0 failures\n",
            "INFO flwr 2024-03-19 13:04:14,561 | server.py:125 | fit progress: (11, 635.5489501953125, {'accuracy': 0.7984214425086975}, 368.8095283810003)\n",
            "INFO:flwr:fit progress: (11, 635.5489501953125, {'accuracy': 0.7984214425086975}, 368.8095283810003)\n",
            "DEBUG flwr 2024-03-19 13:04:14,567 | server.py:173 | evaluate_round 11: strategy sampled 5 clients (out of 100)\n",
            "DEBUG:flwr:evaluate_round 11: strategy sampled 5 clients (out of 100)\n"
          ]
        },
        {
          "output_type": "stream",
          "name": "stdout",
          "text": [
            "-------------------________________________--------------- 39\n"
          ]
        },
        {
          "output_type": "stream",
          "name": "stderr",
          "text": [
            "DEBUG flwr 2024-03-19 13:04:16,404 | server.py:187 | evaluate_round 11 received 5 results and 0 failures\n",
            "DEBUG:flwr:evaluate_round 11 received 5 results and 0 failures\n",
            "DEBUG flwr 2024-03-19 13:04:16,408 | server.py:222 | fit_round 12: strategy sampled 10 clients (out of 100)\n",
            "DEBUG:flwr:fit_round 12: strategy sampled 10 clients (out of 100)\n",
            "DEBUG flwr 2024-03-19 13:04:33,459 | server.py:236 | fit_round 12 received 10 results and 0 failures\n",
            "DEBUG:flwr:fit_round 12 received 10 results and 0 failures\n",
            "INFO flwr 2024-03-19 13:04:54,345 | server.py:125 | fit progress: (12, 668.8458251953125, {'accuracy': 0.7984078526496887}, 408.59353396899996)\n",
            "INFO:flwr:fit progress: (12, 668.8458251953125, {'accuracy': 0.7984078526496887}, 408.59353396899996)\n",
            "DEBUG flwr 2024-03-19 13:04:54,349 | server.py:173 | evaluate_round 12: strategy sampled 5 clients (out of 100)\n",
            "DEBUG:flwr:evaluate_round 12: strategy sampled 5 clients (out of 100)\n"
          ]
        },
        {
          "output_type": "stream",
          "name": "stdout",
          "text": [
            "-------------------________________________--------------- 38\n"
          ]
        },
        {
          "output_type": "stream",
          "name": "stderr",
          "text": [
            "DEBUG flwr 2024-03-19 13:04:57,444 | server.py:187 | evaluate_round 12 received 5 results and 0 failures\n",
            "DEBUG:flwr:evaluate_round 12 received 5 results and 0 failures\n",
            "DEBUG flwr 2024-03-19 13:04:57,448 | server.py:222 | fit_round 13: strategy sampled 10 clients (out of 100)\n",
            "DEBUG:flwr:fit_round 13: strategy sampled 10 clients (out of 100)\n",
            "DEBUG flwr 2024-03-19 13:05:13,078 | server.py:236 | fit_round 13 received 10 results and 0 failures\n",
            "DEBUG:flwr:fit_round 13 received 10 results and 0 failures\n",
            "INFO flwr 2024-03-19 13:05:33,972 | server.py:125 | fit progress: (13, 686.3091430664062, {'accuracy': 0.7982953190803528}, 448.2208995440001)\n",
            "INFO:flwr:fit progress: (13, 686.3091430664062, {'accuracy': 0.7982953190803528}, 448.2208995440001)\n",
            "DEBUG flwr 2024-03-19 13:05:33,976 | server.py:173 | evaluate_round 13: strategy sampled 5 clients (out of 100)\n",
            "DEBUG:flwr:evaluate_round 13: strategy sampled 5 clients (out of 100)\n"
          ]
        },
        {
          "output_type": "stream",
          "name": "stdout",
          "text": [
            "-------------------________________________--------------- 37\n"
          ]
        },
        {
          "output_type": "stream",
          "name": "stderr",
          "text": [
            "DEBUG flwr 2024-03-19 13:05:35,774 | server.py:187 | evaluate_round 13 received 5 results and 0 failures\n",
            "DEBUG:flwr:evaluate_round 13 received 5 results and 0 failures\n",
            "DEBUG flwr 2024-03-19 13:05:35,777 | server.py:222 | fit_round 14: strategy sampled 10 clients (out of 100)\n",
            "DEBUG:flwr:fit_round 14: strategy sampled 10 clients (out of 100)\n",
            "DEBUG flwr 2024-03-19 13:05:51,237 | server.py:236 | fit_round 14 received 10 results and 0 failures\n",
            "DEBUG:flwr:fit_round 14 received 10 results and 0 failures\n",
            "INFO flwr 2024-03-19 13:06:04,444 | server.py:125 | fit progress: (14, 765.597900390625, {'accuracy': 0.7983942031860352}, 478.69236901199974)\n",
            "INFO:flwr:fit progress: (14, 765.597900390625, {'accuracy': 0.7983942031860352}, 478.69236901199974)\n",
            "DEBUG flwr 2024-03-19 13:06:04,450 | server.py:173 | evaluate_round 14: strategy sampled 5 clients (out of 100)\n",
            "DEBUG:flwr:evaluate_round 14: strategy sampled 5 clients (out of 100)\n"
          ]
        },
        {
          "output_type": "stream",
          "name": "stdout",
          "text": [
            "-------------------________________________--------------- 36\n"
          ]
        },
        {
          "output_type": "stream",
          "name": "stderr",
          "text": [
            "DEBUG flwr 2024-03-19 13:06:06,782 | server.py:187 | evaluate_round 14 received 5 results and 0 failures\n",
            "DEBUG:flwr:evaluate_round 14 received 5 results and 0 failures\n",
            "DEBUG flwr 2024-03-19 13:06:06,786 | server.py:222 | fit_round 15: strategy sampled 10 clients (out of 100)\n",
            "DEBUG:flwr:fit_round 15: strategy sampled 10 clients (out of 100)\n",
            "DEBUG flwr 2024-03-19 13:06:24,705 | server.py:236 | fit_round 15 received 10 results and 0 failures\n",
            "DEBUG:flwr:fit_round 15 received 10 results and 0 failures\n",
            "INFO flwr 2024-03-19 13:06:37,998 | server.py:125 | fit progress: (15, 781.2224731445312, {'accuracy': 0.7984657883644104}, 512.2462334639999)\n",
            "INFO:flwr:fit progress: (15, 781.2224731445312, {'accuracy': 0.7984657883644104}, 512.2462334639999)\n",
            "DEBUG flwr 2024-03-19 13:06:38,002 | server.py:173 | evaluate_round 15: strategy sampled 5 clients (out of 100)\n",
            "DEBUG:flwr:evaluate_round 15: strategy sampled 5 clients (out of 100)\n"
          ]
        },
        {
          "output_type": "stream",
          "name": "stdout",
          "text": [
            "-------------------________________________--------------- 35\n"
          ]
        },
        {
          "output_type": "stream",
          "name": "stderr",
          "text": [
            "DEBUG flwr 2024-03-19 13:06:40,850 | server.py:187 | evaluate_round 15 received 5 results and 0 failures\n",
            "DEBUG:flwr:evaluate_round 15 received 5 results and 0 failures\n",
            "DEBUG flwr 2024-03-19 13:06:40,855 | server.py:222 | fit_round 16: strategy sampled 10 clients (out of 100)\n",
            "DEBUG:flwr:fit_round 16: strategy sampled 10 clients (out of 100)\n",
            "DEBUG flwr 2024-03-19 13:06:56,984 | server.py:236 | fit_round 16 received 10 results and 0 failures\n",
            "DEBUG:flwr:fit_round 16 received 10 results and 0 failures\n",
            "INFO flwr 2024-03-19 13:07:10,145 | server.py:125 | fit progress: (16, 799.8527221679688, {'accuracy': 0.7984180450439453}, 544.393813223)\n",
            "INFO:flwr:fit progress: (16, 799.8527221679688, {'accuracy': 0.7984180450439453}, 544.393813223)\n",
            "DEBUG flwr 2024-03-19 13:07:10,150 | server.py:173 | evaluate_round 16: strategy sampled 5 clients (out of 100)\n",
            "DEBUG:flwr:evaluate_round 16: strategy sampled 5 clients (out of 100)\n"
          ]
        },
        {
          "output_type": "stream",
          "name": "stdout",
          "text": [
            "-------------------________________________--------------- 34\n"
          ]
        },
        {
          "output_type": "stream",
          "name": "stderr",
          "text": [
            "DEBUG flwr 2024-03-19 13:07:11,928 | server.py:187 | evaluate_round 16 received 5 results and 0 failures\n",
            "DEBUG:flwr:evaluate_round 16 received 5 results and 0 failures\n",
            "DEBUG flwr 2024-03-19 13:07:11,937 | server.py:222 | fit_round 17: strategy sampled 10 clients (out of 100)\n",
            "DEBUG:flwr:fit_round 17: strategy sampled 10 clients (out of 100)\n",
            "DEBUG flwr 2024-03-19 13:07:27,379 | server.py:236 | fit_round 17 received 10 results and 0 failures\n",
            "DEBUG:flwr:fit_round 17 received 10 results and 0 failures\n",
            "INFO flwr 2024-03-19 13:07:42,274 | server.py:125 | fit progress: (17, 811.91796875, {'accuracy': 0.7983771562576294}, 576.5228025359997)\n",
            "INFO:flwr:fit progress: (17, 811.91796875, {'accuracy': 0.7983771562576294}, 576.5228025359997)\n",
            "DEBUG flwr 2024-03-19 13:07:42,280 | server.py:173 | evaluate_round 17: strategy sampled 5 clients (out of 100)\n",
            "DEBUG:flwr:evaluate_round 17: strategy sampled 5 clients (out of 100)\n"
          ]
        },
        {
          "output_type": "stream",
          "name": "stdout",
          "text": [
            "-------------------________________________--------------- 33\n"
          ]
        },
        {
          "output_type": "stream",
          "name": "stderr",
          "text": [
            "DEBUG flwr 2024-03-19 13:07:44,318 | server.py:187 | evaluate_round 17 received 5 results and 0 failures\n",
            "DEBUG:flwr:evaluate_round 17 received 5 results and 0 failures\n",
            "DEBUG flwr 2024-03-19 13:07:44,322 | server.py:222 | fit_round 18: strategy sampled 10 clients (out of 100)\n",
            "DEBUG:flwr:fit_round 18: strategy sampled 10 clients (out of 100)\n",
            "DEBUG flwr 2024-03-19 13:08:00,101 | server.py:236 | fit_round 18 received 10 results and 0 failures\n",
            "DEBUG:flwr:fit_round 18 received 10 results and 0 failures\n",
            "INFO flwr 2024-03-19 13:08:13,571 | server.py:125 | fit progress: (18, 849.552734375, {'accuracy': 0.7983771562576294}, 607.8195232920002)\n",
            "INFO:flwr:fit progress: (18, 849.552734375, {'accuracy': 0.7983771562576294}, 607.8195232920002)\n",
            "DEBUG flwr 2024-03-19 13:08:13,578 | server.py:173 | evaluate_round 18: strategy sampled 5 clients (out of 100)\n",
            "DEBUG:flwr:evaluate_round 18: strategy sampled 5 clients (out of 100)\n"
          ]
        },
        {
          "output_type": "stream",
          "name": "stdout",
          "text": [
            "-------------------________________________--------------- 32\n"
          ]
        },
        {
          "output_type": "stream",
          "name": "stderr",
          "text": [
            "DEBUG flwr 2024-03-19 13:08:15,366 | server.py:187 | evaluate_round 18 received 5 results and 0 failures\n",
            "DEBUG:flwr:evaluate_round 18 received 5 results and 0 failures\n",
            "DEBUG flwr 2024-03-19 13:08:15,369 | server.py:222 | fit_round 19: strategy sampled 10 clients (out of 100)\n",
            "DEBUG:flwr:fit_round 19: strategy sampled 10 clients (out of 100)\n",
            "DEBUG flwr 2024-03-19 13:08:35,007 | server.py:236 | fit_round 19 received 10 results and 0 failures\n",
            "DEBUG:flwr:fit_round 19 received 10 results and 0 failures\n",
            "INFO flwr 2024-03-19 13:08:55,984 | server.py:125 | fit progress: (19, 865.8533935546875, {'accuracy': 0.7982612252235413}, 650.232731474)\n",
            "INFO:flwr:fit progress: (19, 865.8533935546875, {'accuracy': 0.7982612252235413}, 650.232731474)\n",
            "DEBUG flwr 2024-03-19 13:08:55,990 | server.py:173 | evaluate_round 19: strategy sampled 5 clients (out of 100)\n",
            "DEBUG:flwr:evaluate_round 19: strategy sampled 5 clients (out of 100)\n"
          ]
        },
        {
          "output_type": "stream",
          "name": "stdout",
          "text": [
            "-------------------________________________--------------- 31\n"
          ]
        },
        {
          "output_type": "stream",
          "name": "stderr",
          "text": [
            "DEBUG flwr 2024-03-19 13:08:57,857 | server.py:187 | evaluate_round 19 received 5 results and 0 failures\n",
            "DEBUG:flwr:evaluate_round 19 received 5 results and 0 failures\n",
            "DEBUG flwr 2024-03-19 13:08:57,860 | server.py:222 | fit_round 20: strategy sampled 10 clients (out of 100)\n",
            "DEBUG:flwr:fit_round 20: strategy sampled 10 clients (out of 100)\n",
            "DEBUG flwr 2024-03-19 13:09:14,141 | server.py:236 | fit_round 20 received 10 results and 0 failures\n",
            "DEBUG:flwr:fit_round 20 received 10 results and 0 failures\n",
            "INFO flwr 2024-03-19 13:09:35,234 | server.py:125 | fit progress: (20, 867.6626586914062, {'accuracy': 0.7984896302223206}, 689.4829154840004)\n",
            "INFO:flwr:fit progress: (20, 867.6626586914062, {'accuracy': 0.7984896302223206}, 689.4829154840004)\n",
            "DEBUG flwr 2024-03-19 13:09:35,238 | server.py:173 | evaluate_round 20: strategy sampled 5 clients (out of 100)\n",
            "DEBUG:flwr:evaluate_round 20: strategy sampled 5 clients (out of 100)\n"
          ]
        },
        {
          "output_type": "stream",
          "name": "stdout",
          "text": [
            "-------------------________________________--------------- 30\n"
          ]
        },
        {
          "output_type": "stream",
          "name": "stderr",
          "text": [
            "DEBUG flwr 2024-03-19 13:09:37,035 | server.py:187 | evaluate_round 20 received 5 results and 0 failures\n",
            "DEBUG:flwr:evaluate_round 20 received 5 results and 0 failures\n",
            "DEBUG flwr 2024-03-19 13:09:37,038 | server.py:222 | fit_round 21: strategy sampled 10 clients (out of 100)\n",
            "DEBUG:flwr:fit_round 21: strategy sampled 10 clients (out of 100)\n",
            "DEBUG flwr 2024-03-19 13:09:52,711 | server.py:236 | fit_round 21 received 10 results and 0 failures\n",
            "DEBUG:flwr:fit_round 21 received 10 results and 0 failures\n",
            "INFO flwr 2024-03-19 13:10:06,439 | server.py:125 | fit progress: (21, 914.368408203125, {'accuracy': 0.7984964847564697}, 720.6876508090004)\n",
            "INFO:flwr:fit progress: (21, 914.368408203125, {'accuracy': 0.7984964847564697}, 720.6876508090004)\n",
            "DEBUG flwr 2024-03-19 13:10:06,444 | server.py:173 | evaluate_round 21: strategy sampled 5 clients (out of 100)\n",
            "DEBUG:flwr:evaluate_round 21: strategy sampled 5 clients (out of 100)\n"
          ]
        },
        {
          "output_type": "stream",
          "name": "stdout",
          "text": [
            "-------------------________________________--------------- 29\n"
          ]
        },
        {
          "output_type": "stream",
          "name": "stderr",
          "text": [
            "DEBUG flwr 2024-03-19 13:10:08,295 | server.py:187 | evaluate_round 21 received 5 results and 0 failures\n",
            "DEBUG:flwr:evaluate_round 21 received 5 results and 0 failures\n",
            "DEBUG flwr 2024-03-19 13:10:08,301 | server.py:222 | fit_round 22: strategy sampled 10 clients (out of 100)\n",
            "DEBUG:flwr:fit_round 22: strategy sampled 10 clients (out of 100)\n",
            "DEBUG flwr 2024-03-19 13:10:27,974 | server.py:236 | fit_round 22 received 10 results and 0 failures\n",
            "DEBUG:flwr:fit_round 22 received 10 results and 0 failures\n",
            "INFO flwr 2024-03-19 13:10:41,494 | server.py:125 | fit progress: (22, 910.9542846679688, {'accuracy': 0.7984998822212219}, 755.7425495430002)\n",
            "INFO:flwr:fit progress: (22, 910.9542846679688, {'accuracy': 0.7984998822212219}, 755.7425495430002)\n",
            "DEBUG flwr 2024-03-19 13:10:41,501 | server.py:173 | evaluate_round 22: strategy sampled 5 clients (out of 100)\n",
            "DEBUG:flwr:evaluate_round 22: strategy sampled 5 clients (out of 100)\n"
          ]
        },
        {
          "output_type": "stream",
          "name": "stdout",
          "text": [
            "-------------------________________________--------------- 28\n"
          ]
        },
        {
          "output_type": "stream",
          "name": "stderr",
          "text": [
            "DEBUG flwr 2024-03-19 13:10:43,901 | server.py:187 | evaluate_round 22 received 5 results and 0 failures\n",
            "DEBUG:flwr:evaluate_round 22 received 5 results and 0 failures\n",
            "DEBUG flwr 2024-03-19 13:10:43,905 | server.py:222 | fit_round 23: strategy sampled 10 clients (out of 100)\n",
            "DEBUG:flwr:fit_round 23: strategy sampled 10 clients (out of 100)\n",
            "DEBUG flwr 2024-03-19 13:10:59,676 | server.py:236 | fit_round 23 received 10 results and 0 failures\n",
            "DEBUG:flwr:fit_round 23 received 10 results and 0 failures\n",
            "INFO flwr 2024-03-19 13:11:13,057 | server.py:125 | fit progress: (23, 967.4544677734375, {'accuracy': 0.7984930872917175}, 787.3056981250006)\n",
            "INFO:flwr:fit progress: (23, 967.4544677734375, {'accuracy': 0.7984930872917175}, 787.3056981250006)\n",
            "DEBUG flwr 2024-03-19 13:11:13,063 | server.py:173 | evaluate_round 23: strategy sampled 5 clients (out of 100)\n",
            "DEBUG:flwr:evaluate_round 23: strategy sampled 5 clients (out of 100)\n"
          ]
        },
        {
          "output_type": "stream",
          "name": "stdout",
          "text": [
            "-------------------________________________--------------- 27\n"
          ]
        },
        {
          "output_type": "stream",
          "name": "stderr",
          "text": [
            "DEBUG flwr 2024-03-19 13:11:14,902 | server.py:187 | evaluate_round 23 received 5 results and 0 failures\n",
            "DEBUG:flwr:evaluate_round 23 received 5 results and 0 failures\n",
            "DEBUG flwr 2024-03-19 13:11:14,905 | server.py:222 | fit_round 24: strategy sampled 10 clients (out of 100)\n",
            "DEBUG:flwr:fit_round 24: strategy sampled 10 clients (out of 100)\n",
            "DEBUG flwr 2024-03-19 13:11:30,816 | server.py:236 | fit_round 24 received 10 results and 0 failures\n",
            "DEBUG:flwr:fit_round 24 received 10 results and 0 failures\n",
            "INFO flwr 2024-03-19 13:11:51,716 | server.py:125 | fit progress: (24, 959.2879028320312, {'accuracy': 0.7984521389007568}, 825.9640502870002)\n",
            "INFO:flwr:fit progress: (24, 959.2879028320312, {'accuracy': 0.7984521389007568}, 825.9640502870002)\n",
            "DEBUG flwr 2024-03-19 13:11:51,720 | server.py:173 | evaluate_round 24: strategy sampled 5 clients (out of 100)\n",
            "DEBUG:flwr:evaluate_round 24: strategy sampled 5 clients (out of 100)\n"
          ]
        },
        {
          "output_type": "stream",
          "name": "stdout",
          "text": [
            "-------------------________________________--------------- 26\n"
          ]
        },
        {
          "output_type": "stream",
          "name": "stderr",
          "text": [
            "DEBUG flwr 2024-03-19 13:11:54,617 | server.py:187 | evaluate_round 24 received 5 results and 0 failures\n",
            "DEBUG:flwr:evaluate_round 24 received 5 results and 0 failures\n",
            "DEBUG flwr 2024-03-19 13:11:54,620 | server.py:222 | fit_round 25: strategy sampled 10 clients (out of 100)\n",
            "DEBUG:flwr:fit_round 25: strategy sampled 10 clients (out of 100)\n",
            "DEBUG flwr 2024-03-19 13:12:10,541 | server.py:236 | fit_round 25 received 10 results and 0 failures\n",
            "DEBUG:flwr:fit_round 25 received 10 results and 0 failures\n",
            "INFO flwr 2024-03-19 13:12:31,462 | server.py:125 | fit progress: (25, 986.4978637695312, {'accuracy': 0.7984282970428467}, 865.7103689150003)\n",
            "INFO:flwr:fit progress: (25, 986.4978637695312, {'accuracy': 0.7984282970428467}, 865.7103689150003)\n",
            "DEBUG flwr 2024-03-19 13:12:31,466 | server.py:173 | evaluate_round 25: strategy sampled 5 clients (out of 100)\n",
            "DEBUG:flwr:evaluate_round 25: strategy sampled 5 clients (out of 100)\n"
          ]
        },
        {
          "output_type": "stream",
          "name": "stdout",
          "text": [
            "-------------------________________________--------------- 25\n"
          ]
        },
        {
          "output_type": "stream",
          "name": "stderr",
          "text": [
            "DEBUG flwr 2024-03-19 13:12:33,633 | server.py:187 | evaluate_round 25 received 5 results and 0 failures\n",
            "DEBUG:flwr:evaluate_round 25 received 5 results and 0 failures\n",
            "DEBUG flwr 2024-03-19 13:12:33,636 | server.py:222 | fit_round 26: strategy sampled 10 clients (out of 100)\n",
            "DEBUG:flwr:fit_round 26: strategy sampled 10 clients (out of 100)\n",
            "DEBUG flwr 2024-03-19 13:12:49,681 | server.py:236 | fit_round 26 received 10 results and 0 failures\n",
            "DEBUG:flwr:fit_round 26 received 10 results and 0 failures\n",
            "INFO flwr 2024-03-19 13:13:10,773 | server.py:125 | fit progress: (26, 1017.43896484375, {'accuracy': 0.7984453439712524}, 905.0209888640006)\n",
            "INFO:flwr:fit progress: (26, 1017.43896484375, {'accuracy': 0.7984453439712524}, 905.0209888640006)\n",
            "DEBUG flwr 2024-03-19 13:13:10,776 | server.py:173 | evaluate_round 26: strategy sampled 5 clients (out of 100)\n",
            "DEBUG:flwr:evaluate_round 26: strategy sampled 5 clients (out of 100)\n"
          ]
        },
        {
          "output_type": "stream",
          "name": "stdout",
          "text": [
            "-------------------________________________--------------- 24\n"
          ]
        },
        {
          "output_type": "stream",
          "name": "stderr",
          "text": [
            "DEBUG flwr 2024-03-19 13:13:12,678 | server.py:187 | evaluate_round 26 received 5 results and 0 failures\n",
            "DEBUG:flwr:evaluate_round 26 received 5 results and 0 failures\n",
            "DEBUG flwr 2024-03-19 13:13:12,682 | server.py:222 | fit_round 27: strategy sampled 10 clients (out of 100)\n",
            "DEBUG:flwr:fit_round 27: strategy sampled 10 clients (out of 100)\n",
            "DEBUG flwr 2024-03-19 13:13:31,977 | server.py:236 | fit_round 27 received 10 results and 0 failures\n",
            "DEBUG:flwr:fit_round 27 received 10 results and 0 failures\n",
            "INFO flwr 2024-03-19 13:13:44,769 | server.py:125 | fit progress: (27, 987.6724853515625, {'accuracy': 0.7984214425086975}, 939.0175366120006)\n",
            "INFO:flwr:fit progress: (27, 987.6724853515625, {'accuracy': 0.7984214425086975}, 939.0175366120006)\n",
            "DEBUG flwr 2024-03-19 13:13:44,776 | server.py:173 | evaluate_round 27: strategy sampled 5 clients (out of 100)\n",
            "DEBUG:flwr:evaluate_round 27: strategy sampled 5 clients (out of 100)\n"
          ]
        },
        {
          "output_type": "stream",
          "name": "stdout",
          "text": [
            "-------------------________________________--------------- 23\n"
          ]
        },
        {
          "output_type": "stream",
          "name": "stderr",
          "text": [
            "DEBUG flwr 2024-03-19 13:13:48,042 | server.py:187 | evaluate_round 27 received 5 results and 0 failures\n",
            "DEBUG:flwr:evaluate_round 27 received 5 results and 0 failures\n",
            "DEBUG flwr 2024-03-19 13:13:48,046 | server.py:222 | fit_round 28: strategy sampled 10 clients (out of 100)\n",
            "DEBUG:flwr:fit_round 28: strategy sampled 10 clients (out of 100)\n",
            "DEBUG flwr 2024-03-19 13:14:04,197 | server.py:236 | fit_round 28 received 10 results and 0 failures\n",
            "DEBUG:flwr:fit_round 28 received 10 results and 0 failures\n",
            "INFO flwr 2024-03-19 13:14:25,098 | server.py:125 | fit progress: (28, 1041.34619140625, {'accuracy': 0.7984453439712524}, 979.3462460060005)\n",
            "INFO:flwr:fit progress: (28, 1041.34619140625, {'accuracy': 0.7984453439712524}, 979.3462460060005)\n",
            "DEBUG flwr 2024-03-19 13:14:25,103 | server.py:173 | evaluate_round 28: strategy sampled 5 clients (out of 100)\n",
            "DEBUG:flwr:evaluate_round 28: strategy sampled 5 clients (out of 100)\n"
          ]
        },
        {
          "output_type": "stream",
          "name": "stdout",
          "text": [
            "-------------------________________________--------------- 22\n"
          ]
        },
        {
          "output_type": "stream",
          "name": "stderr",
          "text": [
            "DEBUG flwr 2024-03-19 13:14:26,899 | server.py:187 | evaluate_round 28 received 5 results and 0 failures\n",
            "DEBUG:flwr:evaluate_round 28 received 5 results and 0 failures\n",
            "DEBUG flwr 2024-03-19 13:14:26,903 | server.py:222 | fit_round 29: strategy sampled 10 clients (out of 100)\n",
            "DEBUG:flwr:fit_round 29: strategy sampled 10 clients (out of 100)\n",
            "DEBUG flwr 2024-03-19 13:14:43,288 | server.py:236 | fit_round 29 received 10 results and 0 failures\n",
            "DEBUG:flwr:fit_round 29 received 10 results and 0 failures\n",
            "INFO flwr 2024-03-19 13:14:56,074 | server.py:125 | fit progress: (29, 1043.20654296875, {'accuracy': 0.7984384894371033}, 1010.3219750270005)\n",
            "INFO:flwr:fit progress: (29, 1043.20654296875, {'accuracy': 0.7984384894371033}, 1010.3219750270005)\n",
            "DEBUG flwr 2024-03-19 13:14:56,078 | server.py:173 | evaluate_round 29: strategy sampled 5 clients (out of 100)\n",
            "DEBUG:flwr:evaluate_round 29: strategy sampled 5 clients (out of 100)\n"
          ]
        },
        {
          "output_type": "stream",
          "name": "stdout",
          "text": [
            "-------------------________________________--------------- 21\n"
          ]
        },
        {
          "output_type": "stream",
          "name": "stderr",
          "text": [
            "DEBUG flwr 2024-03-19 13:14:59,040 | server.py:187 | evaluate_round 29 received 5 results and 0 failures\n",
            "DEBUG:flwr:evaluate_round 29 received 5 results and 0 failures\n",
            "DEBUG flwr 2024-03-19 13:14:59,044 | server.py:222 | fit_round 30: strategy sampled 10 clients (out of 100)\n",
            "DEBUG:flwr:fit_round 30: strategy sampled 10 clients (out of 100)\n",
            "DEBUG flwr 2024-03-19 13:15:15,534 | server.py:236 | fit_round 30 received 10 results and 0 failures\n",
            "DEBUG:flwr:fit_round 30 received 10 results and 0 failures\n",
            "INFO flwr 2024-03-19 13:15:36,438 | server.py:125 | fit progress: (30, 1019.57470703125, {'accuracy': 0.7984419465065002}, 1050.6860074740002)\n",
            "INFO:flwr:fit progress: (30, 1019.57470703125, {'accuracy': 0.7984419465065002}, 1050.6860074740002)\n",
            "DEBUG flwr 2024-03-19 13:15:36,443 | server.py:173 | evaluate_round 30: strategy sampled 5 clients (out of 100)\n",
            "DEBUG:flwr:evaluate_round 30: strategy sampled 5 clients (out of 100)\n"
          ]
        },
        {
          "output_type": "stream",
          "name": "stdout",
          "text": [
            "-------------------________________________--------------- 20\n"
          ]
        },
        {
          "output_type": "stream",
          "name": "stderr",
          "text": [
            "DEBUG flwr 2024-03-19 13:15:38,316 | server.py:187 | evaluate_round 30 received 5 results and 0 failures\n",
            "DEBUG:flwr:evaluate_round 30 received 5 results and 0 failures\n",
            "DEBUG flwr 2024-03-19 13:15:38,319 | server.py:222 | fit_round 31: strategy sampled 10 clients (out of 100)\n",
            "DEBUG:flwr:fit_round 31: strategy sampled 10 clients (out of 100)\n",
            "DEBUG flwr 2024-03-19 13:15:54,063 | server.py:236 | fit_round 31 received 10 results and 0 failures\n",
            "DEBUG:flwr:fit_round 31 received 10 results and 0 failures\n",
            "INFO flwr 2024-03-19 13:16:07,592 | server.py:125 | fit progress: (31, 1083.451171875, {'accuracy': 0.7983737587928772}, 1081.8409914400004)\n",
            "INFO:flwr:fit progress: (31, 1083.451171875, {'accuracy': 0.7983737587928772}, 1081.8409914400004)\n",
            "DEBUG flwr 2024-03-19 13:16:07,598 | server.py:173 | evaluate_round 31: strategy sampled 5 clients (out of 100)\n",
            "DEBUG:flwr:evaluate_round 31: strategy sampled 5 clients (out of 100)\n"
          ]
        },
        {
          "output_type": "stream",
          "name": "stdout",
          "text": [
            "-------------------________________________--------------- 19\n"
          ]
        },
        {
          "output_type": "stream",
          "name": "stderr",
          "text": [
            "DEBUG flwr 2024-03-19 13:16:10,262 | server.py:187 | evaluate_round 31 received 5 results and 0 failures\n",
            "DEBUG:flwr:evaluate_round 31 received 5 results and 0 failures\n",
            "DEBUG flwr 2024-03-19 13:16:10,269 | server.py:222 | fit_round 32: strategy sampled 10 clients (out of 100)\n",
            "DEBUG:flwr:fit_round 32: strategy sampled 10 clients (out of 100)\n",
            "DEBUG flwr 2024-03-19 13:16:26,760 | server.py:236 | fit_round 32 received 10 results and 0 failures\n",
            "DEBUG:flwr:fit_round 32 received 10 results and 0 failures\n",
            "INFO flwr 2024-03-19 13:16:40,346 | server.py:125 | fit progress: (32, 1179.064208984375, {'accuracy': 0.7984657883644104}, 1114.5946592189998)\n",
            "INFO:flwr:fit progress: (32, 1179.064208984375, {'accuracy': 0.7984657883644104}, 1114.5946592189998)\n",
            "DEBUG flwr 2024-03-19 13:16:40,356 | server.py:173 | evaluate_round 32: strategy sampled 5 clients (out of 100)\n",
            "DEBUG:flwr:evaluate_round 32: strategy sampled 5 clients (out of 100)\n"
          ]
        },
        {
          "output_type": "stream",
          "name": "stdout",
          "text": [
            "-------------------________________________--------------- 18\n"
          ]
        },
        {
          "output_type": "stream",
          "name": "stderr",
          "text": [
            "DEBUG flwr 2024-03-19 13:16:42,859 | server.py:187 | evaluate_round 32 received 5 results and 0 failures\n",
            "DEBUG:flwr:evaluate_round 32 received 5 results and 0 failures\n",
            "DEBUG flwr 2024-03-19 13:16:42,863 | server.py:222 | fit_round 33: strategy sampled 10 clients (out of 100)\n",
            "DEBUG:flwr:fit_round 33: strategy sampled 10 clients (out of 100)\n",
            "DEBUG flwr 2024-03-19 13:17:01,924 | server.py:236 | fit_round 33 received 10 results and 0 failures\n",
            "DEBUG:flwr:fit_round 33 received 10 results and 0 failures\n",
            "INFO flwr 2024-03-19 13:17:22,856 | server.py:125 | fit progress: (33, 1214.62158203125, {'accuracy': 0.798390805721283}, 1157.104209564)\n",
            "INFO:flwr:fit progress: (33, 1214.62158203125, {'accuracy': 0.798390805721283}, 1157.104209564)\n",
            "DEBUG flwr 2024-03-19 13:17:22,860 | server.py:173 | evaluate_round 33: strategy sampled 5 clients (out of 100)\n",
            "DEBUG:flwr:evaluate_round 33: strategy sampled 5 clients (out of 100)\n"
          ]
        },
        {
          "output_type": "stream",
          "name": "stdout",
          "text": [
            "-------------------________________________--------------- 17\n"
          ]
        },
        {
          "output_type": "stream",
          "name": "stderr",
          "text": [
            "DEBUG flwr 2024-03-19 13:17:25,405 | server.py:187 | evaluate_round 33 received 5 results and 0 failures\n",
            "DEBUG:flwr:evaluate_round 33 received 5 results and 0 failures\n",
            "DEBUG flwr 2024-03-19 13:17:25,408 | server.py:222 | fit_round 34: strategy sampled 10 clients (out of 100)\n",
            "DEBUG:flwr:fit_round 34: strategy sampled 10 clients (out of 100)\n",
            "DEBUG flwr 2024-03-19 13:17:43,898 | server.py:236 | fit_round 34 received 10 results and 0 failures\n",
            "DEBUG:flwr:fit_round 34 received 10 results and 0 failures\n",
            "INFO flwr 2024-03-19 13:17:57,611 | server.py:125 | fit progress: (34, 1255.1285400390625, {'accuracy': 0.7983703017234802}, 1191.8592421340004)\n",
            "INFO:flwr:fit progress: (34, 1255.1285400390625, {'accuracy': 0.7983703017234802}, 1191.8592421340004)\n",
            "DEBUG flwr 2024-03-19 13:17:57,616 | server.py:173 | evaluate_round 34: strategy sampled 5 clients (out of 100)\n",
            "DEBUG:flwr:evaluate_round 34: strategy sampled 5 clients (out of 100)\n"
          ]
        },
        {
          "output_type": "stream",
          "name": "stdout",
          "text": [
            "-------------------________________________--------------- 16\n"
          ]
        },
        {
          "output_type": "stream",
          "name": "stderr",
          "text": [
            "DEBUG flwr 2024-03-19 13:17:59,475 | server.py:187 | evaluate_round 34 received 5 results and 0 failures\n",
            "DEBUG:flwr:evaluate_round 34 received 5 results and 0 failures\n",
            "DEBUG flwr 2024-03-19 13:17:59,478 | server.py:222 | fit_round 35: strategy sampled 10 clients (out of 100)\n",
            "DEBUG:flwr:fit_round 35: strategy sampled 10 clients (out of 100)\n",
            "DEBUG flwr 2024-03-19 13:18:15,735 | server.py:236 | fit_round 35 received 10 results and 0 failures\n",
            "DEBUG:flwr:fit_round 35 received 10 results and 0 failures\n",
            "INFO flwr 2024-03-19 13:18:29,571 | server.py:125 | fit progress: (35, 1261.437255859375, {'accuracy': 0.7983328104019165}, 1223.81975474)\n",
            "INFO:flwr:fit progress: (35, 1261.437255859375, {'accuracy': 0.7983328104019165}, 1223.81975474)\n",
            "DEBUG flwr 2024-03-19 13:18:29,576 | server.py:173 | evaluate_round 35: strategy sampled 5 clients (out of 100)\n",
            "DEBUG:flwr:evaluate_round 35: strategy sampled 5 clients (out of 100)\n"
          ]
        },
        {
          "output_type": "stream",
          "name": "stdout",
          "text": [
            "-------------------________________________--------------- 15\n"
          ]
        },
        {
          "output_type": "stream",
          "name": "stderr",
          "text": [
            "DEBUG flwr 2024-03-19 13:18:31,388 | server.py:187 | evaluate_round 35 received 5 results and 0 failures\n",
            "DEBUG:flwr:evaluate_round 35 received 5 results and 0 failures\n",
            "DEBUG flwr 2024-03-19 13:18:31,396 | server.py:222 | fit_round 36: strategy sampled 10 clients (out of 100)\n",
            "DEBUG:flwr:fit_round 36: strategy sampled 10 clients (out of 100)\n",
            "DEBUG flwr 2024-03-19 13:18:47,428 | server.py:236 | fit_round 36 received 10 results and 0 failures\n",
            "DEBUG:flwr:fit_round 36 received 10 results and 0 failures\n",
            "INFO flwr 2024-03-19 13:19:01,264 | server.py:125 | fit progress: (36, 1326.454833984375, {'accuracy': 0.7981657385826111}, 1255.512761634)\n",
            "INFO:flwr:fit progress: (36, 1326.454833984375, {'accuracy': 0.7981657385826111}, 1255.512761634)\n",
            "DEBUG flwr 2024-03-19 13:19:01,274 | server.py:173 | evaluate_round 36: strategy sampled 5 clients (out of 100)\n",
            "DEBUG:flwr:evaluate_round 36: strategy sampled 5 clients (out of 100)\n"
          ]
        },
        {
          "output_type": "stream",
          "name": "stdout",
          "text": [
            "-------------------________________________--------------- 14\n"
          ]
        },
        {
          "output_type": "stream",
          "name": "stderr",
          "text": [
            "DEBUG flwr 2024-03-19 13:19:04,468 | server.py:187 | evaluate_round 36 received 5 results and 0 failures\n",
            "DEBUG:flwr:evaluate_round 36 received 5 results and 0 failures\n",
            "DEBUG flwr 2024-03-19 13:19:04,473 | server.py:222 | fit_round 37: strategy sampled 10 clients (out of 100)\n",
            "DEBUG:flwr:fit_round 37: strategy sampled 10 clients (out of 100)\n",
            "DEBUG flwr 2024-03-19 13:19:20,684 | server.py:236 | fit_round 37 received 10 results and 0 failures\n",
            "DEBUG:flwr:fit_round 37 received 10 results and 0 failures\n",
            "INFO flwr 2024-03-19 13:19:41,622 | server.py:125 | fit progress: (37, 1303.7822265625, {'accuracy': 0.7983498573303223}, 1295.8709618440002)\n",
            "INFO:flwr:fit progress: (37, 1303.7822265625, {'accuracy': 0.7983498573303223}, 1295.8709618440002)\n",
            "DEBUG flwr 2024-03-19 13:19:41,628 | server.py:173 | evaluate_round 37: strategy sampled 5 clients (out of 100)\n",
            "DEBUG:flwr:evaluate_round 37: strategy sampled 5 clients (out of 100)\n"
          ]
        },
        {
          "output_type": "stream",
          "name": "stdout",
          "text": [
            "-------------------________________________--------------- 13\n"
          ]
        },
        {
          "output_type": "stream",
          "name": "stderr",
          "text": [
            "DEBUG flwr 2024-03-19 13:19:43,440 | server.py:187 | evaluate_round 37 received 5 results and 0 failures\n",
            "DEBUG:flwr:evaluate_round 37 received 5 results and 0 failures\n",
            "DEBUG flwr 2024-03-19 13:19:43,443 | server.py:222 | fit_round 38: strategy sampled 10 clients (out of 100)\n",
            "DEBUG:flwr:fit_round 38: strategy sampled 10 clients (out of 100)\n",
            "DEBUG flwr 2024-03-19 13:19:58,901 | server.py:236 | fit_round 38 received 10 results and 0 failures\n",
            "DEBUG:flwr:fit_round 38 received 10 results and 0 failures\n",
            "INFO flwr 2024-03-19 13:20:12,549 | server.py:125 | fit progress: (38, 1327.1011962890625, {'accuracy': 0.7983464598655701}, 1326.7973858340006)\n",
            "INFO:flwr:fit progress: (38, 1327.1011962890625, {'accuracy': 0.7983464598655701}, 1326.7973858340006)\n",
            "DEBUG flwr 2024-03-19 13:20:12,555 | server.py:173 | evaluate_round 38: strategy sampled 5 clients (out of 100)\n",
            "DEBUG:flwr:evaluate_round 38: strategy sampled 5 clients (out of 100)\n"
          ]
        },
        {
          "output_type": "stream",
          "name": "stdout",
          "text": [
            "-------------------________________________--------------- 12\n"
          ]
        },
        {
          "output_type": "stream",
          "name": "stderr",
          "text": [
            "DEBUG flwr 2024-03-19 13:20:15,208 | server.py:187 | evaluate_round 38 received 5 results and 0 failures\n",
            "DEBUG:flwr:evaluate_round 38 received 5 results and 0 failures\n",
            "DEBUG flwr 2024-03-19 13:20:15,214 | server.py:222 | fit_round 39: strategy sampled 10 clients (out of 100)\n",
            "DEBUG:flwr:fit_round 39: strategy sampled 10 clients (out of 100)\n",
            "DEBUG flwr 2024-03-19 13:20:31,376 | server.py:236 | fit_round 39 received 10 results and 0 failures\n",
            "DEBUG:flwr:fit_round 39 received 10 results and 0 failures\n",
            "INFO flwr 2024-03-19 13:20:52,483 | server.py:125 | fit progress: (39, 1446.431884765625, {'accuracy': 0.7983532547950745}, 1366.731760276)\n",
            "INFO:flwr:fit progress: (39, 1446.431884765625, {'accuracy': 0.7983532547950745}, 1366.731760276)\n",
            "DEBUG flwr 2024-03-19 13:20:52,489 | server.py:173 | evaluate_round 39: strategy sampled 5 clients (out of 100)\n",
            "DEBUG:flwr:evaluate_round 39: strategy sampled 5 clients (out of 100)\n"
          ]
        },
        {
          "output_type": "stream",
          "name": "stdout",
          "text": [
            "-------------------________________________--------------- 11\n"
          ]
        },
        {
          "output_type": "stream",
          "name": "stderr",
          "text": [
            "DEBUG flwr 2024-03-19 13:20:54,321 | server.py:187 | evaluate_round 39 received 5 results and 0 failures\n",
            "DEBUG:flwr:evaluate_round 39 received 5 results and 0 failures\n",
            "DEBUG flwr 2024-03-19 13:20:54,324 | server.py:222 | fit_round 40: strategy sampled 10 clients (out of 100)\n",
            "DEBUG:flwr:fit_round 40: strategy sampled 10 clients (out of 100)\n",
            "DEBUG flwr 2024-03-19 13:21:10,091 | server.py:236 | fit_round 40 received 10 results and 0 failures\n",
            "DEBUG:flwr:fit_round 40 received 10 results and 0 failures\n",
            "INFO flwr 2024-03-19 13:21:23,455 | server.py:125 | fit progress: (40, 1424.393310546875, {'accuracy': 0.7984180450439453}, 1397.703611974)\n",
            "INFO:flwr:fit progress: (40, 1424.393310546875, {'accuracy': 0.7984180450439453}, 1397.703611974)\n",
            "DEBUG flwr 2024-03-19 13:21:23,459 | server.py:173 | evaluate_round 40: strategy sampled 5 clients (out of 100)\n",
            "DEBUG:flwr:evaluate_round 40: strategy sampled 5 clients (out of 100)\n"
          ]
        },
        {
          "output_type": "stream",
          "name": "stdout",
          "text": [
            "-------------------________________________--------------- 10\n"
          ]
        },
        {
          "output_type": "stream",
          "name": "stderr",
          "text": [
            "DEBUG flwr 2024-03-19 13:21:25,663 | server.py:187 | evaluate_round 40 received 5 results and 0 failures\n",
            "DEBUG:flwr:evaluate_round 40 received 5 results and 0 failures\n",
            "DEBUG flwr 2024-03-19 13:21:25,667 | server.py:222 | fit_round 41: strategy sampled 10 clients (out of 100)\n",
            "DEBUG:flwr:fit_round 41: strategy sampled 10 clients (out of 100)\n",
            "DEBUG flwr 2024-03-19 13:21:46,210 | server.py:236 | fit_round 41 received 10 results and 0 failures\n",
            "DEBUG:flwr:fit_round 41 received 10 results and 0 failures\n",
            "INFO flwr 2024-03-19 13:22:07,111 | server.py:125 | fit progress: (41, 1468.96337890625, {'accuracy': 0.7984214425086975}, 1441.359179941)\n",
            "INFO:flwr:fit progress: (41, 1468.96337890625, {'accuracy': 0.7984214425086975}, 1441.359179941)\n",
            "DEBUG flwr 2024-03-19 13:22:07,116 | server.py:173 | evaluate_round 41: strategy sampled 5 clients (out of 100)\n",
            "DEBUG:flwr:evaluate_round 41: strategy sampled 5 clients (out of 100)\n"
          ]
        },
        {
          "output_type": "stream",
          "name": "stdout",
          "text": [
            "-------------------________________________--------------- 9\n"
          ]
        },
        {
          "output_type": "stream",
          "name": "stderr",
          "text": [
            "DEBUG flwr 2024-03-19 13:22:09,727 | server.py:187 | evaluate_round 41 received 5 results and 0 failures\n",
            "DEBUG:flwr:evaluate_round 41 received 5 results and 0 failures\n",
            "DEBUG flwr 2024-03-19 13:22:09,731 | server.py:222 | fit_round 42: strategy sampled 10 clients (out of 100)\n",
            "DEBUG:flwr:fit_round 42: strategy sampled 10 clients (out of 100)\n",
            "DEBUG flwr 2024-03-19 13:22:27,437 | server.py:236 | fit_round 42 received 10 results and 0 failures\n",
            "DEBUG:flwr:fit_round 42 received 10 results and 0 failures\n",
            "INFO flwr 2024-03-19 13:22:48,350 | server.py:125 | fit progress: (42, 1558.8946533203125, {'accuracy': 0.7984248995780945}, 1482.598512305)\n",
            "INFO:flwr:fit progress: (42, 1558.8946533203125, {'accuracy': 0.7984248995780945}, 1482.598512305)\n",
            "DEBUG flwr 2024-03-19 13:22:48,355 | server.py:173 | evaluate_round 42: strategy sampled 5 clients (out of 100)\n",
            "DEBUG:flwr:evaluate_round 42: strategy sampled 5 clients (out of 100)\n"
          ]
        },
        {
          "output_type": "stream",
          "name": "stdout",
          "text": [
            "-------------------________________________--------------- 8\n"
          ]
        },
        {
          "output_type": "stream",
          "name": "stderr",
          "text": [
            "DEBUG flwr 2024-03-19 13:22:50,182 | server.py:187 | evaluate_round 42 received 5 results and 0 failures\n",
            "DEBUG:flwr:evaluate_round 42 received 5 results and 0 failures\n",
            "DEBUG flwr 2024-03-19 13:22:50,187 | server.py:222 | fit_round 43: strategy sampled 10 clients (out of 100)\n",
            "DEBUG:flwr:fit_round 43: strategy sampled 10 clients (out of 100)\n",
            "DEBUG flwr 2024-03-19 13:23:06,276 | server.py:236 | fit_round 43 received 10 results and 0 failures\n",
            "DEBUG:flwr:fit_round 43 received 10 results and 0 failures\n",
            "INFO flwr 2024-03-19 13:23:20,234 | server.py:125 | fit progress: (43, 1623.533203125, {'accuracy': 0.7983737587928772}, 1514.482610388)\n",
            "INFO:flwr:fit progress: (43, 1623.533203125, {'accuracy': 0.7983737587928772}, 1514.482610388)\n",
            "DEBUG flwr 2024-03-19 13:23:20,240 | server.py:173 | evaluate_round 43: strategy sampled 5 clients (out of 100)\n",
            "DEBUG:flwr:evaluate_round 43: strategy sampled 5 clients (out of 100)\n"
          ]
        },
        {
          "output_type": "stream",
          "name": "stdout",
          "text": [
            "-------------------________________________--------------- 7\n"
          ]
        },
        {
          "output_type": "stream",
          "name": "stderr",
          "text": [
            "DEBUG flwr 2024-03-19 13:23:23,495 | server.py:187 | evaluate_round 43 received 5 results and 0 failures\n",
            "DEBUG:flwr:evaluate_round 43 received 5 results and 0 failures\n",
            "DEBUG flwr 2024-03-19 13:23:23,504 | server.py:222 | fit_round 44: strategy sampled 10 clients (out of 100)\n",
            "DEBUG:flwr:fit_round 44: strategy sampled 10 clients (out of 100)\n",
            "DEBUG flwr 2024-03-19 13:23:40,362 | server.py:236 | fit_round 44 received 10 results and 0 failures\n",
            "DEBUG:flwr:fit_round 44 received 10 results and 0 failures\n",
            "INFO flwr 2024-03-19 13:24:01,270 | server.py:125 | fit progress: (44, 1726.048095703125, {'accuracy': 0.7984282970428467}, 1555.518377772)\n",
            "INFO:flwr:fit progress: (44, 1726.048095703125, {'accuracy': 0.7984282970428467}, 1555.518377772)\n",
            "DEBUG flwr 2024-03-19 13:24:01,275 | server.py:173 | evaluate_round 44: strategy sampled 5 clients (out of 100)\n",
            "DEBUG:flwr:evaluate_round 44: strategy sampled 5 clients (out of 100)\n"
          ]
        },
        {
          "output_type": "stream",
          "name": "stdout",
          "text": [
            "-------------------________________________--------------- 6\n"
          ]
        },
        {
          "output_type": "stream",
          "name": "stderr",
          "text": [
            "DEBUG flwr 2024-03-19 13:24:03,106 | server.py:187 | evaluate_round 44 received 5 results and 0 failures\n",
            "DEBUG:flwr:evaluate_round 44 received 5 results and 0 failures\n",
            "DEBUG flwr 2024-03-19 13:24:03,109 | server.py:222 | fit_round 45: strategy sampled 10 clients (out of 100)\n",
            "DEBUG:flwr:fit_round 45: strategy sampled 10 clients (out of 100)\n",
            "DEBUG flwr 2024-03-19 13:24:19,775 | server.py:236 | fit_round 45 received 10 results and 0 failures\n",
            "DEBUG:flwr:fit_round 45 received 10 results and 0 failures\n",
            "INFO flwr 2024-03-19 13:24:40,869 | server.py:125 | fit progress: (45, 1608.899169921875, {'accuracy': 0.7984248995780945}, 1595.1177896190006)\n",
            "INFO:flwr:fit progress: (45, 1608.899169921875, {'accuracy': 0.7984248995780945}, 1595.1177896190006)\n",
            "DEBUG flwr 2024-03-19 13:24:40,875 | server.py:173 | evaluate_round 45: strategy sampled 5 clients (out of 100)\n",
            "DEBUG:flwr:evaluate_round 45: strategy sampled 5 clients (out of 100)\n"
          ]
        },
        {
          "output_type": "stream",
          "name": "stdout",
          "text": [
            "-------------------________________________--------------- 5\n"
          ]
        },
        {
          "output_type": "stream",
          "name": "stderr",
          "text": [
            "DEBUG flwr 2024-03-19 13:24:42,738 | server.py:187 | evaluate_round 45 received 5 results and 0 failures\n",
            "DEBUG:flwr:evaluate_round 45 received 5 results and 0 failures\n",
            "DEBUG flwr 2024-03-19 13:24:42,741 | server.py:222 | fit_round 46: strategy sampled 10 clients (out of 100)\n",
            "DEBUG:flwr:fit_round 46: strategy sampled 10 clients (out of 100)\n",
            "DEBUG flwr 2024-03-19 13:24:58,468 | server.py:236 | fit_round 46 received 10 results and 0 failures\n",
            "DEBUG:flwr:fit_round 46 received 10 results and 0 failures\n",
            "INFO flwr 2024-03-19 13:25:12,184 | server.py:125 | fit progress: (46, 1799.8609619140625, {'accuracy': 0.7984350919723511}, 1626.4320655220004)\n",
            "INFO:flwr:fit progress: (46, 1799.8609619140625, {'accuracy': 0.7984350919723511}, 1626.4320655220004)\n",
            "DEBUG flwr 2024-03-19 13:25:12,188 | server.py:173 | evaluate_round 46: strategy sampled 5 clients (out of 100)\n",
            "DEBUG:flwr:evaluate_round 46: strategy sampled 5 clients (out of 100)\n"
          ]
        },
        {
          "output_type": "stream",
          "name": "stdout",
          "text": [
            "-------------------________________________--------------- 4\n"
          ]
        },
        {
          "output_type": "stream",
          "name": "stderr",
          "text": [
            "DEBUG flwr 2024-03-19 13:25:14,035 | server.py:187 | evaluate_round 46 received 5 results and 0 failures\n",
            "DEBUG:flwr:evaluate_round 46 received 5 results and 0 failures\n",
            "DEBUG flwr 2024-03-19 13:25:14,040 | server.py:222 | fit_round 47: strategy sampled 10 clients (out of 100)\n",
            "DEBUG:flwr:fit_round 47: strategy sampled 10 clients (out of 100)\n",
            "DEBUG flwr 2024-03-19 13:25:30,566 | server.py:236 | fit_round 47 received 10 results and 0 failures\n",
            "DEBUG:flwr:fit_round 47 received 10 results and 0 failures\n",
            "INFO flwr 2024-03-19 13:25:51,673 | server.py:125 | fit progress: (47, 1894.0933837890625, {'accuracy': 0.7984350919723511}, 1665.92198737)\n",
            "INFO:flwr:fit progress: (47, 1894.0933837890625, {'accuracy': 0.7984350919723511}, 1665.92198737)\n",
            "DEBUG flwr 2024-03-19 13:25:51,677 | server.py:173 | evaluate_round 47: strategy sampled 5 clients (out of 100)\n",
            "DEBUG:flwr:evaluate_round 47: strategy sampled 5 clients (out of 100)\n"
          ]
        },
        {
          "output_type": "stream",
          "name": "stdout",
          "text": [
            "-------------------________________________--------------- 3\n"
          ]
        },
        {
          "output_type": "stream",
          "name": "stderr",
          "text": [
            "DEBUG flwr 2024-03-19 13:25:53,496 | server.py:187 | evaluate_round 47 received 5 results and 0 failures\n",
            "DEBUG:flwr:evaluate_round 47 received 5 results and 0 failures\n",
            "DEBUG flwr 2024-03-19 13:25:53,499 | server.py:222 | fit_round 48: strategy sampled 10 clients (out of 100)\n",
            "DEBUG:flwr:fit_round 48: strategy sampled 10 clients (out of 100)\n",
            "DEBUG flwr 2024-03-19 13:26:09,155 | server.py:236 | fit_round 48 received 10 results and 0 failures\n",
            "DEBUG:flwr:fit_round 48 received 10 results and 0 failures\n",
            "INFO flwr 2024-03-19 13:26:22,618 | server.py:125 | fit progress: (48, 1881.51513671875, {'accuracy': 0.798458993434906}, 1696.8663862360004)\n",
            "INFO:flwr:fit progress: (48, 1881.51513671875, {'accuracy': 0.798458993434906}, 1696.8663862360004)\n",
            "DEBUG flwr 2024-03-19 13:26:22,623 | server.py:173 | evaluate_round 48: strategy sampled 5 clients (out of 100)\n",
            "DEBUG:flwr:evaluate_round 48: strategy sampled 5 clients (out of 100)\n"
          ]
        },
        {
          "output_type": "stream",
          "name": "stdout",
          "text": [
            "-------------------________________________--------------- 2\n"
          ]
        },
        {
          "output_type": "stream",
          "name": "stderr",
          "text": [
            "DEBUG flwr 2024-03-19 13:26:24,468 | server.py:187 | evaluate_round 48 received 5 results and 0 failures\n",
            "DEBUG:flwr:evaluate_round 48 received 5 results and 0 failures\n",
            "DEBUG flwr 2024-03-19 13:26:24,471 | server.py:222 | fit_round 49: strategy sampled 10 clients (out of 100)\n",
            "DEBUG:flwr:fit_round 49: strategy sampled 10 clients (out of 100)\n",
            "DEBUG flwr 2024-03-19 13:26:46,105 | server.py:236 | fit_round 49 received 10 results and 0 failures\n",
            "DEBUG:flwr:fit_round 49 received 10 results and 0 failures\n",
            "INFO flwr 2024-03-19 13:26:59,334 | server.py:125 | fit progress: (49, 1902.6322021484375, {'accuracy': 0.7984487414360046}, 1733.5824406220004)\n",
            "INFO:flwr:fit progress: (49, 1902.6322021484375, {'accuracy': 0.7984487414360046}, 1733.5824406220004)\n",
            "DEBUG flwr 2024-03-19 13:26:59,340 | server.py:173 | evaluate_round 49: strategy sampled 5 clients (out of 100)\n",
            "DEBUG:flwr:evaluate_round 49: strategy sampled 5 clients (out of 100)\n"
          ]
        },
        {
          "output_type": "stream",
          "name": "stdout",
          "text": [
            "-------------------________________________--------------- 1\n"
          ]
        },
        {
          "output_type": "stream",
          "name": "stderr",
          "text": [
            "DEBUG flwr 2024-03-19 13:27:01,283 | server.py:187 | evaluate_round 49 received 5 results and 0 failures\n",
            "DEBUG:flwr:evaluate_round 49 received 5 results and 0 failures\n",
            "DEBUG flwr 2024-03-19 13:27:01,285 | server.py:222 | fit_round 50: strategy sampled 10 clients (out of 100)\n",
            "DEBUG:flwr:fit_round 50: strategy sampled 10 clients (out of 100)\n",
            "DEBUG flwr 2024-03-19 13:27:17,891 | server.py:236 | fit_round 50 received 10 results and 0 failures\n",
            "DEBUG:flwr:fit_round 50 received 10 results and 0 failures\n",
            "/usr/local/lib/python3.10/dist-packages/keras/src/engine/training.py:3103: UserWarning: You are saving your model as an HDF5 file via `model.save()`. This file format is considered legacy. We recommend using instead the native Keras format, e.g. `model.save('my_model.keras')`.\n",
            "  saving_api.save_model(\n",
            "INFO flwr 2024-03-19 13:27:38,846 | server.py:125 | fit progress: (50, 1889.0706787109375, {'accuracy': 0.7984453439712524}, 1773.0949133910003)\n",
            "INFO:flwr:fit progress: (50, 1889.0706787109375, {'accuracy': 0.7984453439712524}, 1773.0949133910003)\n",
            "DEBUG flwr 2024-03-19 13:27:38,856 | server.py:173 | evaluate_round 50: strategy sampled 5 clients (out of 100)\n",
            "DEBUG:flwr:evaluate_round 50: strategy sampled 5 clients (out of 100)\n"
          ]
        },
        {
          "output_type": "stream",
          "name": "stdout",
          "text": [
            "-------------------________________________--------------- 0\n"
          ]
        },
        {
          "output_type": "stream",
          "name": "stderr",
          "text": [
            "DEBUG flwr 2024-03-19 13:27:41,723 | server.py:187 | evaluate_round 50 received 5 results and 0 failures\n",
            "DEBUG:flwr:evaluate_round 50 received 5 results and 0 failures\n",
            "INFO flwr 2024-03-19 13:27:41,727 | server.py:153 | FL finished in 1775.9752970410004\n",
            "INFO:flwr:FL finished in 1775.9752970410004\n",
            "INFO flwr 2024-03-19 13:27:41,733 | app.py:226 | app_fit: losses_distributed [(1, 0.592316997051239), (2, 0.5263652443885803), (3, 0.522284471988678), (4, 0.47962660193443296), (5, 0.421450012922287), (6, 0.39471688866615295), (7, 0.370864200592041), (8, 0.3862835943698883), (9, 0.34576472640037537), (10, 0.3302800714969635), (11, 0.3306579053401947), (12, 0.3419924736022949), (13, 0.3430321455001831), (14, 0.3247146546840668), (15, 0.3206759333610535), (16, 0.31673743724823), (17, 0.31496927738189695), (18, 0.3068098545074463), (19, 0.3113099217414856), (20, 0.3032539188861847), (21, 0.3126575708389282), (22, 0.3129943132400513), (23, 0.27720788717269895), (24, 0.28213047981262207), (25, 0.28564547896385195), (26, 0.25783485174179077), (27, 0.30182175636291503), (28, 0.26699741184711456), (29, 0.2707526832818985), (30, 0.26439387500286105), (31, 0.2612194329500198), (32, 0.2549412488937378), (33, 0.28415119647979736), (34, 0.28438496589660645), (35, 0.26283749043941496), (36, 0.25970413386821745), (37, 0.26408988535404204), (38, 0.2739035964012146), (39, 0.26624341309070587), (40, 0.25532097816467286), (41, 0.2466994345188141), (42, 0.24128383100032808), (43, 0.2856482803821564), (44, 0.23519899547100068), (45, 0.284246027469635), (46, 0.2673792153596878), (47, 0.27103381752967837), (48, 0.29243217706680297), (49, 0.27756025195121764), (50, 0.29747920036315917)]\n",
            "INFO:flwr:app_fit: losses_distributed [(1, 0.592316997051239), (2, 0.5263652443885803), (3, 0.522284471988678), (4, 0.47962660193443296), (5, 0.421450012922287), (6, 0.39471688866615295), (7, 0.370864200592041), (8, 0.3862835943698883), (9, 0.34576472640037537), (10, 0.3302800714969635), (11, 0.3306579053401947), (12, 0.3419924736022949), (13, 0.3430321455001831), (14, 0.3247146546840668), (15, 0.3206759333610535), (16, 0.31673743724823), (17, 0.31496927738189695), (18, 0.3068098545074463), (19, 0.3113099217414856), (20, 0.3032539188861847), (21, 0.3126575708389282), (22, 0.3129943132400513), (23, 0.27720788717269895), (24, 0.28213047981262207), (25, 0.28564547896385195), (26, 0.25783485174179077), (27, 0.30182175636291503), (28, 0.26699741184711456), (29, 0.2707526832818985), (30, 0.26439387500286105), (31, 0.2612194329500198), (32, 0.2549412488937378), (33, 0.28415119647979736), (34, 0.28438496589660645), (35, 0.26283749043941496), (36, 0.25970413386821745), (37, 0.26408988535404204), (38, 0.2739035964012146), (39, 0.26624341309070587), (40, 0.25532097816467286), (41, 0.2466994345188141), (42, 0.24128383100032808), (43, 0.2856482803821564), (44, 0.23519899547100068), (45, 0.284246027469635), (46, 0.2673792153596878), (47, 0.27103381752967837), (48, 0.29243217706680297), (49, 0.27756025195121764), (50, 0.29747920036315917)]\n",
            "INFO flwr 2024-03-19 13:27:41,735 | app.py:227 | app_fit: metrics_distributed_fit {}\n",
            "INFO:flwr:app_fit: metrics_distributed_fit {}\n",
            "INFO flwr 2024-03-19 13:27:41,739 | app.py:228 | app_fit: metrics_distributed {'accuracy': [(1, 0.7701342225074768), (2, 0.7684563875198365), (3, 0.7503355622291565), (4, 0.7899328947067261), (5, 0.795637595653534), (6, 0.8416107296943665), (7, 0.8409395933151245), (8, 0.8278523683547974), (9, 0.836241614818573), (10, 0.8583892583847046), (11, 0.8593959808349609), (12, 0.8536912679672242), (13, 0.8506711483001709), (14, 0.8637583732604981), (15, 0.868120813369751), (16, 0.8697986602783203), (17, 0.8778523445129395), (18, 0.8815436244010926), (19, 0.8768456459045411), (20, 0.8875838875770569), (21, 0.8825503468513489), (22, 0.8691275119781494), (23, 0.8936241626739502), (24, 0.8922818779945374), (25, 0.8882550477981568), (26, 0.9026845574378968), (27, 0.8802013397216797), (28, 0.9016778469085693), (29, 0.9), (30, 0.8973154306411744), (31, 0.9013422846794128), (32, 0.9040268421173095), (33, 0.8942953109741211), (34, 0.8909395933151245), (35, 0.9040268301963806), (36, 0.8983221411705017), (37, 0.8976510047912598), (38, 0.8963087320327758), (39, 0.9040268540382386), (40, 0.9033557176589966), (41, 0.9127516865730285), (42, 0.9077181339263916), (43, 0.8919463157653809), (44, 0.9120805382728576), (45, 0.8872483253479004), (46, 0.901342260837555), (47, 0.8939597368240356), (48, 0.8942953109741211), (49, 0.891946303844452), (50, 0.8822147607803345)]}\n",
            "INFO:flwr:app_fit: metrics_distributed {'accuracy': [(1, 0.7701342225074768), (2, 0.7684563875198365), (3, 0.7503355622291565), (4, 0.7899328947067261), (5, 0.795637595653534), (6, 0.8416107296943665), (7, 0.8409395933151245), (8, 0.8278523683547974), (9, 0.836241614818573), (10, 0.8583892583847046), (11, 0.8593959808349609), (12, 0.8536912679672242), (13, 0.8506711483001709), (14, 0.8637583732604981), (15, 0.868120813369751), (16, 0.8697986602783203), (17, 0.8778523445129395), (18, 0.8815436244010926), (19, 0.8768456459045411), (20, 0.8875838875770569), (21, 0.8825503468513489), (22, 0.8691275119781494), (23, 0.8936241626739502), (24, 0.8922818779945374), (25, 0.8882550477981568), (26, 0.9026845574378968), (27, 0.8802013397216797), (28, 0.9016778469085693), (29, 0.9), (30, 0.8973154306411744), (31, 0.9013422846794128), (32, 0.9040268421173095), (33, 0.8942953109741211), (34, 0.8909395933151245), (35, 0.9040268301963806), (36, 0.8983221411705017), (37, 0.8976510047912598), (38, 0.8963087320327758), (39, 0.9040268540382386), (40, 0.9033557176589966), (41, 0.9127516865730285), (42, 0.9077181339263916), (43, 0.8919463157653809), (44, 0.9120805382728576), (45, 0.8872483253479004), (46, 0.901342260837555), (47, 0.8939597368240356), (48, 0.8942953109741211), (49, 0.891946303844452), (50, 0.8822147607803345)]}\n",
            "INFO flwr 2024-03-19 13:27:41,743 | app.py:229 | app_fit: losses_centralized [(0, 5.452410697937012), (1, 115.40326690673828), (2, 138.7212371826172), (3, 185.81167602539062), (4, 273.548095703125), (5, 352.629150390625), (6, 435.7398986816406), (7, 466.1918640136719), (8, 529.5328979492188), (9, 554.38916015625), (10, 595.566162109375), (11, 635.5489501953125), (12, 668.8458251953125), (13, 686.3091430664062), (14, 765.597900390625), (15, 781.2224731445312), (16, 799.8527221679688), (17, 811.91796875), (18, 849.552734375), (19, 865.8533935546875), (20, 867.6626586914062), (21, 914.368408203125), (22, 910.9542846679688), (23, 967.4544677734375), (24, 959.2879028320312), (25, 986.4978637695312), (26, 1017.43896484375), (27, 987.6724853515625), (28, 1041.34619140625), (29, 1043.20654296875), (30, 1019.57470703125), (31, 1083.451171875), (32, 1179.064208984375), (33, 1214.62158203125), (34, 1255.1285400390625), (35, 1261.437255859375), (36, 1326.454833984375), (37, 1303.7822265625), (38, 1327.1011962890625), (39, 1446.431884765625), (40, 1424.393310546875), (41, 1468.96337890625), (42, 1558.8946533203125), (43, 1623.533203125), (44, 1726.048095703125), (45, 1608.899169921875), (46, 1799.8609619140625), (47, 1894.0933837890625), (48, 1881.51513671875), (49, 1902.6322021484375), (50, 1889.0706787109375)]\n",
            "INFO:flwr:app_fit: losses_centralized [(0, 5.452410697937012), (1, 115.40326690673828), (2, 138.7212371826172), (3, 185.81167602539062), (4, 273.548095703125), (5, 352.629150390625), (6, 435.7398986816406), (7, 466.1918640136719), (8, 529.5328979492188), (9, 554.38916015625), (10, 595.566162109375), (11, 635.5489501953125), (12, 668.8458251953125), (13, 686.3091430664062), (14, 765.597900390625), (15, 781.2224731445312), (16, 799.8527221679688), (17, 811.91796875), (18, 849.552734375), (19, 865.8533935546875), (20, 867.6626586914062), (21, 914.368408203125), (22, 910.9542846679688), (23, 967.4544677734375), (24, 959.2879028320312), (25, 986.4978637695312), (26, 1017.43896484375), (27, 987.6724853515625), (28, 1041.34619140625), (29, 1043.20654296875), (30, 1019.57470703125), (31, 1083.451171875), (32, 1179.064208984375), (33, 1214.62158203125), (34, 1255.1285400390625), (35, 1261.437255859375), (36, 1326.454833984375), (37, 1303.7822265625), (38, 1327.1011962890625), (39, 1446.431884765625), (40, 1424.393310546875), (41, 1468.96337890625), (42, 1558.8946533203125), (43, 1623.533203125), (44, 1726.048095703125), (45, 1608.899169921875), (46, 1799.8609619140625), (47, 1894.0933837890625), (48, 1881.51513671875), (49, 1902.6322021484375), (50, 1889.0706787109375)]\n",
            "INFO flwr 2024-03-19 13:27:41,751 | app.py:230 | app_fit: metrics_centralized {'accuracy': [(0, 0.04474446922540665), (1, 0.6654767990112305), (2, 0.6888684034347534), (3, 0.7205755114555359), (4, 0.7673587799072266), (5, 0.7868875861167908), (6, 0.784299910068512), (7, 0.794521152973175), (8, 0.7980907559394836), (9, 0.7983601093292236), (10, 0.7984248995780945), (11, 0.7984214425086975), (12, 0.7984078526496887), (13, 0.7982953190803528), (14, 0.7983942031860352), (15, 0.7984657883644104), (16, 0.7984180450439453), (17, 0.7983771562576294), (18, 0.7983771562576294), (19, 0.7982612252235413), (20, 0.7984896302223206), (21, 0.7984964847564697), (22, 0.7984998822212219), (23, 0.7984930872917175), (24, 0.7984521389007568), (25, 0.7984282970428467), (26, 0.7984453439712524), (27, 0.7984214425086975), (28, 0.7984453439712524), (29, 0.7984384894371033), (30, 0.7984419465065002), (31, 0.7983737587928772), (32, 0.7984657883644104), (33, 0.798390805721283), (34, 0.7983703017234802), (35, 0.7983328104019165), (36, 0.7981657385826111), (37, 0.7983498573303223), (38, 0.7983464598655701), (39, 0.7983532547950745), (40, 0.7984180450439453), (41, 0.7984214425086975), (42, 0.7984248995780945), (43, 0.7983737587928772), (44, 0.7984282970428467), (45, 0.7984248995780945), (46, 0.7984350919723511), (47, 0.7984350919723511), (48, 0.798458993434906), (49, 0.7984487414360046), (50, 0.7984453439712524)]}\n",
            "INFO:flwr:app_fit: metrics_centralized {'accuracy': [(0, 0.04474446922540665), (1, 0.6654767990112305), (2, 0.6888684034347534), (3, 0.7205755114555359), (4, 0.7673587799072266), (5, 0.7868875861167908), (6, 0.784299910068512), (7, 0.794521152973175), (8, 0.7980907559394836), (9, 0.7983601093292236), (10, 0.7984248995780945), (11, 0.7984214425086975), (12, 0.7984078526496887), (13, 0.7982953190803528), (14, 0.7983942031860352), (15, 0.7984657883644104), (16, 0.7984180450439453), (17, 0.7983771562576294), (18, 0.7983771562576294), (19, 0.7982612252235413), (20, 0.7984896302223206), (21, 0.7984964847564697), (22, 0.7984998822212219), (23, 0.7984930872917175), (24, 0.7984521389007568), (25, 0.7984282970428467), (26, 0.7984453439712524), (27, 0.7984214425086975), (28, 0.7984453439712524), (29, 0.7984384894371033), (30, 0.7984419465065002), (31, 0.7983737587928772), (32, 0.7984657883644104), (33, 0.798390805721283), (34, 0.7983703017234802), (35, 0.7983328104019165), (36, 0.7981657385826111), (37, 0.7983498573303223), (38, 0.7983464598655701), (39, 0.7983532547950745), (40, 0.7984180450439453), (41, 0.7984214425086975), (42, 0.7984248995780945), (43, 0.7983737587928772), (44, 0.7984282970428467), (45, 0.7984248995780945), (46, 0.7984350919723511), (47, 0.7984350919723511), (48, 0.798458993434906), (49, 0.7984487414360046), (50, 0.7984453439712524)]}\n"
          ]
        },
        {
          "output_type": "stream",
          "name": "stdout",
          "text": [
            "history.metrics_centralized = {'accuracy': [(0, 0.04474446922540665), (1, 0.6654767990112305), (2, 0.6888684034347534), (3, 0.7205755114555359), (4, 0.7673587799072266), (5, 0.7868875861167908), (6, 0.784299910068512), (7, 0.794521152973175), (8, 0.7980907559394836), (9, 0.7983601093292236), (10, 0.7984248995780945), (11, 0.7984214425086975), (12, 0.7984078526496887), (13, 0.7982953190803528), (14, 0.7983942031860352), (15, 0.7984657883644104), (16, 0.7984180450439453), (17, 0.7983771562576294), (18, 0.7983771562576294), (19, 0.7982612252235413), (20, 0.7984896302223206), (21, 0.7984964847564697), (22, 0.7984998822212219), (23, 0.7984930872917175), (24, 0.7984521389007568), (25, 0.7984282970428467), (26, 0.7984453439712524), (27, 0.7984214425086975), (28, 0.7984453439712524), (29, 0.7984384894371033), (30, 0.7984419465065002), (31, 0.7983737587928772), (32, 0.7984657883644104), (33, 0.798390805721283), (34, 0.7983703017234802), (35, 0.7983328104019165), (36, 0.7981657385826111), (37, 0.7983498573303223), (38, 0.7983464598655701), (39, 0.7983532547950745), (40, 0.7984180450439453), (41, 0.7984214425086975), (42, 0.7984248995780945), (43, 0.7983737587928772), (44, 0.7984282970428467), (45, 0.7984248995780945), (46, 0.7984350919723511), (47, 0.7984350919723511), (48, 0.798458993434906), (49, 0.7984487414360046), (50, 0.7984453439712524)]}\n"
          ]
        },
        {
          "output_type": "execute_result",
          "data": {
            "text/plain": [
              "Text(0.5, 1.0, '100 clients with 10 clients per round')"
            ]
          },
          "metadata": {},
          "execution_count": 32
        },
        {
          "output_type": "display_data",
          "data": {
            "text/plain": [
              "<Figure size 640x480 with 1 Axes>"
            ],
            "image/png": "[encoded data removed]"
          },
          "metadata": {}
        }
      ]
    },
    {
      "cell_type": "markdown",
      "source": [
        "#Model Evaluation"
      ],
      "metadata": {
        "id": "0XoEv5JGcWOg"
      }
    },
    {
      "cell_type": "code",
      "source": [
        "from sklearn.metrics import roc_curve, auc\n",
        "from sklearn.preprocessing import LabelBinarizer\n",
        "import numpy as np\n",
        "import matplotlib.pyplot as plt\n",
        "from sklearn.metrics import confusion_matrix\n",
        "from sklearn.metrics import precision_recall_fscore_support\n",
        "\n",
        "\n",
        "\n",
        "\n",
        "def eva(loaded_model):\n",
        "  x_test, y_test = testset\n",
        "  loss, accuracy = loaded_model.evaluate(x_test, y_test)\n",
        "  print(\"Accuracy:\", accuracy)\n",
        "\n",
        "\n",
        "  print(\"Loss:\", loss)\n",
        "\n",
        "\n",
        "  predicted_probabilities = loaded_model.predict(x_test)\n",
        "  predictions = predicted_probabilities.argmax(axis=-1)\n",
        "\n",
        "  precision, recall, f1_score, _ = precision_recall_fscore_support(y_test, predictions, average='weighted')\n",
        "  print(\"Precision:\", precision)\n",
        "  print(\"Recall:\", recall)\n",
        "  print(\"F1-Score:\", f1_score)\n",
        "\n",
        "  # 4. Confusion Matrix evaluation\n",
        "  conf_matrix = confusion_matrix(y_test, predictions)\n",
        "  print(\"Confusion Matrix:\\n\", conf_matrix)\n",
        "\n",
        "\n",
        "\n",
        "\n",
        "def ROC(loaded_model):\n",
        "  # Transform labels to one-hot encoded format\n",
        "  lb = LabelBinarizer()\n",
        "  lb.fit(y_test)\n",
        "  y_test_one_hot = lb.transform(y_test)\n",
        "\n",
        "  # Get the predicted probabilities for each class\n",
        "  predicted_probabilities = loaded_model.predict(x_test)\n",
        "\n",
        "  # Compute the ROC curve and AUC score for each class\n",
        "  fpr = dict()\n",
        "  tpr = dict()\n",
        "  roc_auc = dict()\n",
        "  for i in range(len(lb.classes_)):\n",
        "      fpr[i], tpr[i], _ = roc_curve(y_test_one_hot[:, i], predicted_probabilities[:, i])\n",
        "      roc_auc[i] = auc(fpr[i], tpr[i])\n",
        "\n",
        "  # Compute micro-average ROC curve and AUC score\n",
        "  fpr[\"micro\"], tpr[\"micro\"], _ = roc_curve(y_test_one_hot.ravel(), predicted_probabilities.ravel())\n",
        "  roc_auc[\"micro\"] = auc(fpr[\"micro\"], tpr[\"micro\"])\n",
        "\n",
        "  # Plot ROC curve\n",
        "\n",
        "  plt.figure(figsize=(12, 10))\n",
        "  plt.plot(fpr[\"micro\"], tpr[\"micro\"],\n",
        "          label='micro-average ROC curve (area = {0:0.2f})'\n",
        "                ''.format(roc_auc[\"micro\"]),\n",
        "          color='deeppink', linestyle=':', linewidth=4)\n",
        "\n",
        "  for i in range(len(lb.classes_)):\n",
        "      plt.plot(fpr[i], tpr[i], lw=2,\n",
        "              label='ROC curve of class {0} (area = {1:0.2f})'\n",
        "              ''.format(i, roc_auc[i]))\n",
        "\n",
        "  plt.plot([0, 1], [0, 1], 'k--', lw=2)\n",
        "  plt.xlim([0.0, 1.0])\n",
        "  plt.ylim([0.0, 1.05])\n",
        "  plt.xlabel('False Positive Rate', fontsize=14, fontweight='bold')  # Increase size and make bold\n",
        "  plt.ylabel('True Positive Rate', fontsize=14, fontweight='bold')  # Increase size and make bold\n",
        "\n",
        "  plt.title('Receiver Operating Characteristic (ROC) Curve', fontsize=16, fontweight='bold')  # Increase size and make bold\n",
        "  plt.legend(loc=\"lower right\", prop={'size': 12, 'weight': 'bold'})  # Increase size and make bold\n",
        "  plt.grid(True)  # Add grid\n",
        "\n",
        "  plt.xticks(fontsize=12, fontweight='bold')  # Increase size and make bold\n",
        "  plt.yticks(fontsize=12, fontweight='bold')  # Increase size and make bold\n",
        "\n",
        "  plt.grid(True)  # Add grid\n",
        "  plt.show()\n"
      ],
      "metadata": {
        "id": "ymvn1DJzZA7G"
      },
      "execution_count": 23,
      "outputs": []
    },
    {
      "cell_type": "code",
      "source": [
        "from tensorflow.keras.models import load_model\n",
        "loaded_model = load_model(\"/content/final_model.h5\")"
      ],
      "metadata": {
        "id": "y6wwUwvlcaiP"
      },
      "execution_count": 24,
      "outputs": []
    },
    {
      "cell_type": "code",
      "source": [
        "eva(loaded_model)"
      ],
      "metadata": {
        "colab": {
          "base_uri": "https://localhost:8080/"
        },
        "id": "7K-EW2BXcSdZ",
        "outputId": "1cd82e88-da7b-4f4f-9af4-5c60b0cb1e24"
      },
      "execution_count": 25,
      "outputs": [
        {
          "output_type": "stream",
          "name": "stdout",
          "text": [
            "9166/9166 [==============================] - 17s 2ms/step - loss: 636.7599 - accuracy: 0.7985\n",
            "Accuracy: 0.7984930872917175\n",
            "Loss: 636.7599487304688\n",
            "9166/9166 [==============================] - 15s 2ms/step\n",
            "Precision: 0.7922795201573517\n",
            "Recall: 0.7984930619481095\n",
            "F1-Score: 0.7638779747111176\n",
            "Confusion Matrix:\n",
            " [[     0      0  13112]\n",
            " [     0  43724  44281]\n",
            " [     0   1711 190482]]\n"
          ]
        },
        {
          "output_type": "stream",
          "name": "stderr",
          "text": [
            "/usr/local/lib/python3.10/dist-packages/sklearn/metrics/_classification.py:1344: UndefinedMetricWarning: Precision and F-score are ill-defined and being set to 0.0 in labels with no predicted samples. Use `zero_division` parameter to control this behavior.\n",
            "  _warn_prf(average, modifier, msg_start, len(result))\n"
          ]
        }
      ]
    },
    {
      "cell_type": "code",
      "source": [
        "ROC(loaded_model)"
      ],
      "metadata": {
        "colab": {
          "base_uri": "https://localhost:8080/",
          "height": 1000
        },
        "id": "nnYrvhpTaK-D",
        "outputId": "53cf4874-8d5d-4fa1-8d35-261a6c801446"
      },
      "execution_count": 26,
      "outputs": [
        {
          "output_type": "stream",
          "name": "stdout",
          "text": [
            "9166/9166 [==============================] - 15s 2ms/step\n"
          ]
        },
        {
          "output_type": "display_data",
          "data": {
            "text/plain": [
              "<Figure size 1600x1400 with 1 Axes>"
            ],
            "image/png": "[encoded data removed]"
          },
          "metadata": {}
        }
      ]
    },
    {
      "cell_type": "code",
      "source": [],
      "metadata": {
        "id": "rwfWqqBSbc_t"
      },
      "execution_count": null,
      "outputs": []
    },
    {
      "cell_type": "code",
      "source": [],
      "metadata": {
        "id": "ze3upBo0enhK"
      },
      "execution_count": null,
      "outputs": []
    },
    {
      "cell_type": "code",
      "source": [],
      "metadata": {
        "id": "KKXAVakzenfG"
      },
      "execution_count": null,
      "outputs": []
    },
    {
      "cell_type": "code",
      "source": [],
      "metadata": {
        "id": "Gw6MwyLWenc9"
      },
      "execution_count": null,
      "outputs": []
    },
    {
      "cell_type": "code",
      "source": [],
      "metadata": {
        "id": "PS7qTL3Aenax"
      },
      "execution_count": null,
      "outputs": []
    }
  ],
  "metadata": {
    "colab": {
      "provenance": [],
      "include_colab_link": true
    },
    "kernelspec": {
      "display_name": "Python 3.8.12 ('.venv': poetry)",
      "language": "python",
      "name": "python3"
    }
  },
  "nbformat": 4,
  "nbformat_minor": 0
}