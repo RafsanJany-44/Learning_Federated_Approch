{
  "nbformat": 4,
  "nbformat_minor": 0,
  "metadata": {
    "colab": {
      "provenance": [],
      "authorship_tag": "ABX9TyMxudRmQ8StPhUFKoHNbHp7",
      "include_colab_link": true
    },
    "kernelspec": {
      "name": "python3",
      "display_name": "Python 3"
    },
    "language_info": {
      "name": "python"
    }
  },
  "cells": [
    {
      "cell_type": "markdown",
      "metadata": {
        "id": "view-in-github",
        "colab_type": "text"
      },
      "source": [
        "<a href=\"https://colab.research.google.com/github/RafsanJany-44/Learning_Federated_Approch/blob/main/initial.ipynb\" target=\"_parent\"><img src=\"https://colab.research.google.com/assets/colab-badge.svg\" alt=\"Open In Colab\"/></a>"
      ]
    },
    {
      "cell_type": "code",
      "source": [
        "import numpy as np\n",
        "import random\n",
        "import cv2\n",
        "import os\n",
        "from imutils import paths\n",
        "from sklearn.model_selection import train_test_split\n",
        "from sklearn.preprocessing import LabelBinarizer\n",
        "from sklearn.model_selection import train_test_split\n",
        "from sklearn.utils import shuffle\n",
        "from sklearn.metrics import accuracy_score\n",
        "\n",
        "import tensorflow as tf\n",
        "from tensorflow.keras.models import Sequential\n",
        "from tensorflow.keras.layers import Conv2D\n",
        "from tensorflow.keras.layers import MaxPooling2D\n",
        "from tensorflow.keras.layers import Activation\n",
        "from tensorflow.keras.layers import Flatten\n",
        "from tensorflow.keras.layers import Dense\n",
        "from tensorflow.keras.optimizers import SGD\n",
        "from tensorflow.keras import backend as k"
      ],
      "metadata": {
        "id": "n6cFC_h2-bVw"
      },
      "execution_count": 3,
      "outputs": []
    },
    {
      "cell_type": "code",
      "execution_count": null,
      "metadata": {
        "id": "YsP0Hs41tpPE"
      },
      "outputs": [],
      "source": [
        "def create_client(images_list, label_list, num_clients = 10, initial = 'clients'):\n",
        "  \"\"\"return: a dictionary with keys clients' names and values as\n",
        "  data shard = tuple of images and label lists.\n",
        "\n",
        "  args:\n",
        "      image_list: a list of numpy arrays of triaing images\n",
        "      label_list: a list of binarized labels for each image\n",
        "      num_client: number of fedrated members (clients)\n",
        "      initials: the clients' name prefiz, e.g. clients_1\n",
        "  \"\"\"\n",
        "\n",
        "  #creat a lsit of client names\n",
        "  client_names = ['{}..{}'.format(initial,i+1) for i in range(num_clients)]\n",
        "\n",
        "  #randomize a slit of client names\n",
        "  data = list(zip(images_list,label_list))\n",
        "  random.shuffle(data)\n",
        "\n",
        "  #shard data and place at each client\n",
        "  size = len(data)//num_clients\n",
        "  shards = [data[i:i+size] for i in range(0,size*num_clients,size)]\n",
        "\n",
        "  #number of  clients must equal number of shards\n",
        "  assert(len(shards)) == len(client_names)\n",
        "\n",
        "  return {client_names[i]: shards[i] for i in range(len(client_names))}\n",
        "\n"
      ]
    },
    {
      "cell_type": "code",
      "source": [],
      "metadata": {
        "id": "oBgqqVJHVYaQ"
      },
      "execution_count": null,
      "outputs": []
    },
    {
      "cell_type": "code",
      "source": [],
      "metadata": {
        "id": "SI97F_C9VYVK"
      },
      "execution_count": null,
      "outputs": []
    },
    {
      "cell_type": "code",
      "source": [],
      "metadata": {
        "id": "JPInAinlVYO-"
      },
      "execution_count": null,
      "outputs": []
    },
    {
      "cell_type": "code",
      "source": [],
      "metadata": {
        "id": "XotNtrZ2Vaba"
      },
      "execution_count": null,
      "outputs": []
    },
    {
      "cell_type": "code",
      "source": [],
      "metadata": {
        "id": "6fjeYTzzVaVR"
      },
      "execution_count": null,
      "outputs": []
    },
    {
      "cell_type": "code",
      "source": [],
      "metadata": {
        "id": "LydsZG0KVaOc"
      },
      "execution_count": null,
      "outputs": []
    },
    {
      "cell_type": "code",
      "source": [],
      "metadata": {
        "id": "yegrpIV6VaJt"
      },
      "execution_count": null,
      "outputs": []
    },
    {
      "cell_type": "code",
      "source": [],
      "metadata": {
        "id": "FfHMkI0KVYG4"
      },
      "execution_count": null,
      "outputs": []
    },
    {
      "cell_type": "code",
      "source": [],
      "metadata": {
        "id": "-4JKUQZwVYAW"
      },
      "execution_count": null,
      "outputs": []
    },
    {
      "cell_type": "code",
      "source": [],
      "metadata": {
        "id": "gNh08y-SVX7t"
      },
      "execution_count": null,
      "outputs": []
    },
    {
      "cell_type": "code",
      "source": [],
      "metadata": {
        "id": "0ks4RFVLVX2E"
      },
      "execution_count": null,
      "outputs": []
    },
    {
      "cell_type": "code",
      "source": [],
      "metadata": {
        "id": "ndLHw8iBVXxC"
      },
      "execution_count": null,
      "outputs": []
    },
    {
      "cell_type": "code",
      "source": [],
      "metadata": {
        "id": "P1C9isiMVXqP"
      },
      "execution_count": null,
      "outputs": []
    },
    {
      "cell_type": "code",
      "source": [],
      "metadata": {
        "id": "1dKhKXpJVXbv"
      },
      "execution_count": null,
      "outputs": []
    },
    {
      "cell_type": "code",
      "source": [],
      "metadata": {
        "id": "cdr7pr3EVXUq"
      },
      "execution_count": null,
      "outputs": []
    }
  ]
}